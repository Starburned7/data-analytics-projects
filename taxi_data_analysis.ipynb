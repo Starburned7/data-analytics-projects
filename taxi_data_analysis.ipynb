{
 "cells": [
  {
   "cell_type": "markdown",
   "id": "a8d0cd20",
   "metadata": {},
   "source": [
    "## Taxi data set analysis"
   ]
  },
  {
   "cell_type": "code",
   "execution_count": 33,
   "id": "1053cf14",
   "metadata": {},
   "outputs": [],
   "source": [
    "import pandas as pd\n",
    "import numpy as np\n",
    "import seaborn as sns\n",
    "import matplotlib.pyplot as plt\n",
    "from catboost import CatBoostClassifier"
   ]
  },
  {
   "cell_type": "markdown",
   "id": "9e0e2161",
   "metadata": {},
   "source": [
    "The key aspect of ride-hailing is the price. It relies on technology to collect accurate tracking data so that a fair price can be calculated at the end of the trip. Fortunately, our riders are quick to tell us when they overpaid and we can use that feedback to improve our product.\n",
    "\n",
    "**Please analyze the dataset to identify top opportunities for reducing the number of overcharge tickets and present your results.**\n",
    "\n",
    "Variables in the file:\n",
    "\n",
    "order_id_new, order_try_id_new - id of an order\n",
    "\n",
    "calc_created- time when the order was created\n",
    "\n",
    "metered_price, distance, duration- actual price, distance and duration of a ride\n",
    "\n",
    "upfront_price- promised to the rider price, based on predicted duration (predicted_duration) and distance (predicted_distance)\n",
    "\n",
    "distance - ride distance\n",
    "\n",
    "duration - ride duration\n",
    "\n",
    "gps_confidence- indicator for good GPS connection (1 - good one, 0 - bad one)\n",
    "\n",
    "entered_by- who entered the address\n",
    "\n",
    "b_state- state of a ride (finished implies that the ride was actually done)\n",
    "\n",
    "dest_change_number- number of destination changes by a rider\n",
    "\n",
    "predicted distance - predicted duration of a ride based on the pickup and dropoff points entered by the rider requesting a car\n",
    "\n",
    "predicted duration - predicted duration of a ride based on the pickup and dropoff points entered by the rider requesting a car\n",
    "\n",
    "prediction_price_type- internal variable for the type of prediction:\n",
    "\n",
    "upfront, prediction - prediction happened before the ride\n",
    "\n",
    "upfront_destination_changed - prediction happened after rider changed destination during the ride\n",
    "\n",
    "change_reason_pricing - records due to whose action the price changed\n",
    "\n",
    "ticket_id_new - id for customer support ticket"
   ]
  },
  {
   "cell_type": "markdown",
   "id": "16ad5a99",
   "metadata": {},
   "source": [
    "## Data loading and overview"
   ]
  },
  {
   "cell_type": "code",
   "execution_count": 2,
   "id": "b5194a62",
   "metadata": {},
   "outputs": [],
   "source": [
    "df = pd.read_csv('/Users/starburned/data_analytics_projects/data/Analytical_Task_Taxi.csv')"
   ]
  },
  {
   "cell_type": "code",
   "execution_count": 3,
   "id": "2f398736",
   "metadata": {},
   "outputs": [
    {
     "data": {
      "text/html": [
       "<div>\n",
       "<style scoped>\n",
       "    .dataframe tbody tr th:only-of-type {\n",
       "        vertical-align: middle;\n",
       "    }\n",
       "\n",
       "    .dataframe tbody tr th {\n",
       "        vertical-align: top;\n",
       "    }\n",
       "\n",
       "    .dataframe thead th {\n",
       "        text-align: right;\n",
       "    }\n",
       "</style>\n",
       "<table border=\"1\" class=\"dataframe\">\n",
       "  <thead>\n",
       "    <tr style=\"text-align: right;\">\n",
       "      <th></th>\n",
       "      <th>order_id_new</th>\n",
       "      <th>order_try_id_new</th>\n",
       "      <th>calc_created</th>\n",
       "      <th>metered_price</th>\n",
       "      <th>upfront_price</th>\n",
       "      <th>distance</th>\n",
       "      <th>duration</th>\n",
       "      <th>gps_confidence</th>\n",
       "      <th>entered_by</th>\n",
       "      <th>b_state</th>\n",
       "      <th>...</th>\n",
       "      <th>device_token</th>\n",
       "      <th>rider_app_version</th>\n",
       "      <th>order_state</th>\n",
       "      <th>order_try_state</th>\n",
       "      <th>driver_app_version</th>\n",
       "      <th>driver_device_uid_new</th>\n",
       "      <th>device_name</th>\n",
       "      <th>eu_indicator</th>\n",
       "      <th>overpaid_ride_ticket</th>\n",
       "      <th>fraud_score</th>\n",
       "    </tr>\n",
       "  </thead>\n",
       "  <tbody>\n",
       "    <tr>\n",
       "      <th>0</th>\n",
       "      <td>22</td>\n",
       "      <td>22</td>\n",
       "      <td>2020-02-02 3:37:31</td>\n",
       "      <td>4.04</td>\n",
       "      <td>10.0</td>\n",
       "      <td>2839</td>\n",
       "      <td>700</td>\n",
       "      <td>1</td>\n",
       "      <td>client</td>\n",
       "      <td>finished</td>\n",
       "      <td>...</td>\n",
       "      <td>NaN</td>\n",
       "      <td>CI.4.17</td>\n",
       "      <td>finished</td>\n",
       "      <td>finished</td>\n",
       "      <td>DA.4.37</td>\n",
       "      <td>1596</td>\n",
       "      <td>Xiaomi Redmi 6</td>\n",
       "      <td>1</td>\n",
       "      <td>0</td>\n",
       "      <td>-1383.0</td>\n",
       "    </tr>\n",
       "    <tr>\n",
       "      <th>1</th>\n",
       "      <td>618</td>\n",
       "      <td>618</td>\n",
       "      <td>2020-02-08 2:26:19</td>\n",
       "      <td>6.09</td>\n",
       "      <td>3.6</td>\n",
       "      <td>5698</td>\n",
       "      <td>493</td>\n",
       "      <td>1</td>\n",
       "      <td>client</td>\n",
       "      <td>finished</td>\n",
       "      <td>...</td>\n",
       "      <td>NaN</td>\n",
       "      <td>CA.5.43</td>\n",
       "      <td>finished</td>\n",
       "      <td>finished</td>\n",
       "      <td>DA.4.39</td>\n",
       "      <td>1578</td>\n",
       "      <td>Samsung SM-G965F</td>\n",
       "      <td>1</td>\n",
       "      <td>0</td>\n",
       "      <td>NaN</td>\n",
       "    </tr>\n",
       "    <tr>\n",
       "      <th>2</th>\n",
       "      <td>657</td>\n",
       "      <td>657</td>\n",
       "      <td>2020-02-08 11:50:35</td>\n",
       "      <td>4.32</td>\n",
       "      <td>3.5</td>\n",
       "      <td>4426</td>\n",
       "      <td>695</td>\n",
       "      <td>1</td>\n",
       "      <td>client</td>\n",
       "      <td>finished</td>\n",
       "      <td>...</td>\n",
       "      <td>NaN</td>\n",
       "      <td>CA.5.43</td>\n",
       "      <td>finished</td>\n",
       "      <td>finished</td>\n",
       "      <td>DA.4.37</td>\n",
       "      <td>951</td>\n",
       "      <td>Samsung SM-A530F</td>\n",
       "      <td>1</td>\n",
       "      <td>0</td>\n",
       "      <td>-166.0</td>\n",
       "    </tr>\n",
       "    <tr>\n",
       "      <th>3</th>\n",
       "      <td>313</td>\n",
       "      <td>313</td>\n",
       "      <td>2020-02-05 6:34:54</td>\n",
       "      <td>72871.72</td>\n",
       "      <td>NaN</td>\n",
       "      <td>49748</td>\n",
       "      <td>1400</td>\n",
       "      <td>0</td>\n",
       "      <td>client</td>\n",
       "      <td>finished</td>\n",
       "      <td>...</td>\n",
       "      <td>NaN</td>\n",
       "      <td>CA.5.23</td>\n",
       "      <td>finished</td>\n",
       "      <td>finished</td>\n",
       "      <td>DA.4.37</td>\n",
       "      <td>1587</td>\n",
       "      <td>TECNO-Y6</td>\n",
       "      <td>0</td>\n",
       "      <td>1</td>\n",
       "      <td>NaN</td>\n",
       "    </tr>\n",
       "    <tr>\n",
       "      <th>4</th>\n",
       "      <td>1176</td>\n",
       "      <td>1176</td>\n",
       "      <td>2020-02-13 17:31:24</td>\n",
       "      <td>20032.50</td>\n",
       "      <td>19500.0</td>\n",
       "      <td>10273</td>\n",
       "      <td>5067</td>\n",
       "      <td>1</td>\n",
       "      <td>client</td>\n",
       "      <td>finished</td>\n",
       "      <td>...</td>\n",
       "      <td>NaN</td>\n",
       "      <td>CA.5.04</td>\n",
       "      <td>finished</td>\n",
       "      <td>finished</td>\n",
       "      <td>DA.4.37</td>\n",
       "      <td>433</td>\n",
       "      <td>Itel W5504</td>\n",
       "      <td>0</td>\n",
       "      <td>0</td>\n",
       "      <td>NaN</td>\n",
       "    </tr>\n",
       "  </tbody>\n",
       "</table>\n",
       "<p>5 rows × 26 columns</p>\n",
       "</div>"
      ],
      "text/plain": [
       "   order_id_new  order_try_id_new         calc_created  metered_price  \\\n",
       "0            22                22   2020-02-02 3:37:31           4.04   \n",
       "1           618               618   2020-02-08 2:26:19           6.09   \n",
       "2           657               657  2020-02-08 11:50:35           4.32   \n",
       "3           313               313   2020-02-05 6:34:54       72871.72   \n",
       "4          1176              1176  2020-02-13 17:31:24       20032.50   \n",
       "\n",
       "   upfront_price  distance  duration  gps_confidence entered_by   b_state  \\\n",
       "0           10.0      2839       700               1     client  finished   \n",
       "1            3.6      5698       493               1     client  finished   \n",
       "2            3.5      4426       695               1     client  finished   \n",
       "3            NaN     49748      1400               0     client  finished   \n",
       "4        19500.0     10273      5067               1     client  finished   \n",
       "\n",
       "   ...  device_token rider_app_version  order_state  order_try_state  \\\n",
       "0  ...           NaN           CI.4.17     finished         finished   \n",
       "1  ...           NaN           CA.5.43     finished         finished   \n",
       "2  ...           NaN           CA.5.43     finished         finished   \n",
       "3  ...           NaN           CA.5.23     finished         finished   \n",
       "4  ...           NaN           CA.5.04     finished         finished   \n",
       "\n",
       "  driver_app_version  driver_device_uid_new       device_name eu_indicator  \\\n",
       "0            DA.4.37                   1596    Xiaomi Redmi 6            1   \n",
       "1            DA.4.39                   1578  Samsung SM-G965F            1   \n",
       "2            DA.4.37                    951  Samsung SM-A530F            1   \n",
       "3            DA.4.37                   1587          TECNO-Y6            0   \n",
       "4            DA.4.37                    433        Itel W5504            0   \n",
       "\n",
       "  overpaid_ride_ticket fraud_score  \n",
       "0                    0     -1383.0  \n",
       "1                    0         NaN  \n",
       "2                    0      -166.0  \n",
       "3                    1         NaN  \n",
       "4                    0         NaN  \n",
       "\n",
       "[5 rows x 26 columns]"
      ]
     },
     "execution_count": 3,
     "metadata": {},
     "output_type": "execute_result"
    }
   ],
   "source": [
    "df.head()"
   ]
  },
  {
   "cell_type": "code",
   "execution_count": 8,
   "id": "b67dcbbb",
   "metadata": {},
   "outputs": [
    {
     "data": {
      "text/plain": [
       "4943"
      ]
     },
     "execution_count": 8,
     "metadata": {},
     "output_type": "execute_result"
    }
   ],
   "source": [
    "len(df)"
   ]
  },
  {
   "cell_type": "code",
   "execution_count": 7,
   "id": "98e561a6",
   "metadata": {},
   "outputs": [
    {
     "data": {
      "text/plain": [
       "Index(['order_id_new', 'order_try_id_new', 'calc_created', 'metered_price',\n",
       "       'upfront_price', 'distance', 'duration', 'gps_confidence', 'entered_by',\n",
       "       'b_state', 'dest_change_number', 'prediction_price_type',\n",
       "       'predicted_distance', 'predicted_duration', 'change_reason_pricing',\n",
       "       'ticket_id_new', 'device_token', 'rider_app_version', 'order_state',\n",
       "       'order_try_state', 'driver_app_version', 'driver_device_uid_new',\n",
       "       'device_name', 'eu_indicator', 'overpaid_ride_ticket', 'fraud_score'],\n",
       "      dtype='object')"
      ]
     },
     "execution_count": 7,
     "metadata": {},
     "output_type": "execute_result"
    }
   ],
   "source": [
    "df.columns"
   ]
  },
  {
   "cell_type": "code",
   "execution_count": 6,
   "id": "c455671b",
   "metadata": {},
   "outputs": [
    {
     "data": {
      "text/plain": [
       "0    4606\n",
       "1     337\n",
       "Name: overpaid_ride_ticket, dtype: int64"
      ]
     },
     "execution_count": 6,
     "metadata": {},
     "output_type": "execute_result"
    }
   ],
   "source": [
    "df['overpaid_ride_ticket'].value_counts()"
   ]
  },
  {
   "cell_type": "code",
   "execution_count": 18,
   "id": "af076ad4",
   "metadata": {},
   "outputs": [
    {
     "data": {
      "text/plain": [
       "min   2020-02-02 00:01:16\n",
       "max   2020-03-13 23:52:07\n",
       "Name: calc_created, dtype: datetime64[ns]"
      ]
     },
     "execution_count": 18,
     "metadata": {},
     "output_type": "execute_result"
    }
   ],
   "source": [
    "df['calc_created'].agg(['min', 'max'])"
   ]
  },
  {
   "cell_type": "code",
   "execution_count": 29,
   "id": "fad122f7",
   "metadata": {},
   "outputs": [
    {
     "data": {
      "text/plain": [
       "min         2.00\n",
       "max    194483.52\n",
       "Name: metered_price, dtype: float64"
      ]
     },
     "execution_count": 29,
     "metadata": {},
     "output_type": "execute_result"
    }
   ],
   "source": [
    "df['metered_price'].agg(['min', 'max'])"
   ]
  },
  {
   "cell_type": "code",
   "execution_count": 15,
   "id": "46be53e4",
   "metadata": {},
   "outputs": [
    {
     "data": {
      "text/plain": [
       "order_id_new               int64\n",
       "order_try_id_new           int64\n",
       "calc_created              object\n",
       "metered_price            float64\n",
       "upfront_price            float64\n",
       "distance                   int64\n",
       "duration                   int64\n",
       "gps_confidence             int64\n",
       "entered_by                object\n",
       "b_state                   object\n",
       "dest_change_number         int64\n",
       "prediction_price_type     object\n",
       "predicted_distance       float64\n",
       "predicted_duration       float64\n",
       "change_reason_pricing     object\n",
       "ticket_id_new              int64\n",
       "device_token             float64\n",
       "rider_app_version         object\n",
       "order_state               object\n",
       "order_try_state           object\n",
       "driver_app_version        object\n",
       "driver_device_uid_new      int64\n",
       "device_name               object\n",
       "eu_indicator               int64\n",
       "overpaid_ride_ticket       int64\n",
       "fraud_score              float64\n",
       "dtype: object"
      ]
     },
     "execution_count": 15,
     "metadata": {},
     "output_type": "execute_result"
    }
   ],
   "source": [
    "df.dtypes"
   ]
  },
  {
   "cell_type": "code",
   "execution_count": 4,
   "id": "df078829",
   "metadata": {},
   "outputs": [],
   "source": [
    "df['calc_created'] = pd.to_datetime(df['calc_created'],format='%Y-%m-%d %H:%M:%S')"
   ]
  },
  {
   "cell_type": "code",
   "execution_count": 19,
   "id": "0cdeced2",
   "metadata": {},
   "outputs": [
    {
     "data": {
      "text/plain": [
       "order_id_new                0\n",
       "order_try_id_new            0\n",
       "calc_created                0\n",
       "metered_price              20\n",
       "upfront_price            1534\n",
       "distance                    0\n",
       "duration                    0\n",
       "gps_confidence              0\n",
       "entered_by                  0\n",
       "b_state                     0\n",
       "dest_change_number          0\n",
       "prediction_price_type      20\n",
       "predicted_distance         20\n",
       "predicted_duration         20\n",
       "change_reason_pricing    4645\n",
       "ticket_id_new               0\n",
       "device_token             4943\n",
       "rider_app_version          16\n",
       "order_state                 0\n",
       "order_try_state             0\n",
       "driver_app_version          0\n",
       "driver_device_uid_new       0\n",
       "device_name                 0\n",
       "eu_indicator                0\n",
       "overpaid_ride_ticket        0\n",
       "fraud_score              2759\n",
       "dtype: int64"
      ]
     },
     "execution_count": 19,
     "metadata": {},
     "output_type": "execute_result"
    }
   ],
   "source": [
    "df.isna().sum()"
   ]
  },
  {
   "cell_type": "code",
   "execution_count": 20,
   "id": "b5af35c1",
   "metadata": {},
   "outputs": [
    {
     "data": {
      "text/plain": [
       "order_id_new             0.000000\n",
       "order_try_id_new         0.000000\n",
       "calc_created             0.000000\n",
       "metered_price            0.004046\n",
       "upfront_price            0.310338\n",
       "distance                 0.000000\n",
       "duration                 0.000000\n",
       "gps_confidence           0.000000\n",
       "entered_by               0.000000\n",
       "b_state                  0.000000\n",
       "dest_change_number       0.000000\n",
       "prediction_price_type    0.004046\n",
       "predicted_distance       0.004046\n",
       "predicted_duration       0.004046\n",
       "change_reason_pricing    0.939713\n",
       "ticket_id_new            0.000000\n",
       "device_token             1.000000\n",
       "rider_app_version        0.003237\n",
       "order_state              0.000000\n",
       "order_try_state          0.000000\n",
       "driver_app_version       0.000000\n",
       "driver_device_uid_new    0.000000\n",
       "device_name              0.000000\n",
       "eu_indicator             0.000000\n",
       "overpaid_ride_ticket     0.000000\n",
       "fraud_score              0.558163\n",
       "dtype: float64"
      ]
     },
     "execution_count": 20,
     "metadata": {},
     "output_type": "execute_result"
    }
   ],
   "source": [
    "df.isna().mean()"
   ]
  },
  {
   "cell_type": "markdown",
   "id": "c8a2fe85",
   "metadata": {},
   "source": [
    "## EDA"
   ]
  },
  {
   "cell_type": "code",
   "execution_count": 12,
   "id": "27b4f650",
   "metadata": {},
   "outputs": [
    {
     "data": {
      "image/png": "[encoded data removed]",
      "text/plain": [
       "<Figure size 432x288 with 1 Axes>"
      ]
     },
     "metadata": {
      "needs_background": "light"
     },
     "output_type": "display_data"
    }
   ],
   "source": [
    "sns.countplot(data=df, x='overpaid_ride_ticket');"
   ]
  },
  {
   "cell_type": "code",
   "execution_count": 14,
   "id": "3a96b2ff",
   "metadata": {},
   "outputs": [
    {
     "data": {
      "image/png": "[encoded data removed]",
      "text/plain": [
       "<Figure size 432x288 with 1 Axes>"
      ]
     },
     "metadata": {
      "needs_background": "light"
     },
     "output_type": "display_data"
    }
   ],
   "source": [
    "sns.countplot(data=df, x='gps_confidence');"
   ]
  },
  {
   "cell_type": "code",
   "execution_count": 20,
   "id": "fa18d322",
   "metadata": {},
   "outputs": [
    {
     "data": {
      "image/png": "[encoded data removed]",
      "text/plain": [
       "<Figure size 432x288 with 1 Axes>"
      ]
     },
     "metadata": {
      "needs_background": "light"
     },
     "output_type": "display_data"
    }
   ],
   "source": [
    "sns.countplot(data=df, x='prediction_price_type')\n",
    "plt.xticks(rotation=90);"
   ]
  },
  {
   "cell_type": "code",
   "execution_count": 27,
   "id": "f750290d",
   "metadata": {},
   "outputs": [
    {
     "data": {
      "image/png": "[encoded data removed]",
      "text/plain": [
       "<Figure size 432x288 with 1 Axes>"
      ]
     },
     "metadata": {
      "needs_background": "light"
     },
     "output_type": "display_data"
    }
   ],
   "source": [
    "sns.countplot(data=df, x='entered_by')\n",
    "plt.xticks(rotation=90);"
   ]
  },
  {
   "cell_type": "code",
   "execution_count": 28,
   "id": "e96978ac",
   "metadata": {},
   "outputs": [
    {
     "data": {
      "image/png": "[encoded data removed]",
      "text/plain": [
       "<Figure size 432x288 with 1 Axes>"
      ]
     },
     "metadata": {
      "needs_background": "light"
     },
     "output_type": "display_data"
    }
   ],
   "source": [
    "sns.countplot(data=df, x='change_reason_pricing')\n",
    "plt.xticks(rotation=90);"
   ]
  },
  {
   "cell_type": "code",
   "execution_count": 21,
   "id": "aa6e1370",
   "metadata": {},
   "outputs": [
    {
     "data": {
      "image/png": "[encoded data removed]",
      "text/plain": [
       "<Figure size 432x288 with 1 Axes>"
      ]
     },
     "metadata": {
      "needs_background": "light"
     },
     "output_type": "display_data"
    }
   ],
   "source": [
    "df['distance'].hist();"
   ]
  },
  {
   "cell_type": "code",
   "execution_count": 22,
   "id": "75ecd2ac",
   "metadata": {},
   "outputs": [
    {
     "data": {
      "image/png": "[encoded data removed]",
      "text/plain": [
       "<Figure size 432x288 with 1 Axes>"
      ]
     },
     "metadata": {
      "needs_background": "light"
     },
     "output_type": "display_data"
    }
   ],
   "source": [
    "df['metered_price'].hist();"
   ]
  },
  {
   "cell_type": "code",
   "execution_count": 23,
   "id": "e63ba0eb",
   "metadata": {},
   "outputs": [
    {
     "data": {
      "image/png": "[encoded data removed]",
      "text/plain": [
       "<Figure size 432x288 with 1 Axes>"
      ]
     },
     "metadata": {
      "needs_background": "light"
     },
     "output_type": "display_data"
    }
   ],
   "source": [
    "df['upfront_price'].hist();"
   ]
  },
  {
   "cell_type": "code",
   "execution_count": 24,
   "id": "df2c817c",
   "metadata": {},
   "outputs": [
    {
     "data": {
      "image/png": "[encoded data removed]",
      "text/plain": [
       "<Figure size 432x288 with 1 Axes>"
      ]
     },
     "metadata": {
      "needs_background": "light"
     },
     "output_type": "display_data"
    }
   ],
   "source": [
    "df['distance'].hist();"
   ]
  },
  {
   "cell_type": "code",
   "execution_count": 25,
   "id": "949caf64",
   "metadata": {},
   "outputs": [
    {
     "data": {
      "image/png": "[encoded data removed]",
      "text/plain": [
       "<Figure size 432x288 with 1 Axes>"
      ]
     },
     "metadata": {
      "needs_background": "light"
     },
     "output_type": "display_data"
    }
   ],
   "source": [
    "df['duration'].hist();"
   ]
  },
  {
   "cell_type": "code",
   "execution_count": 30,
   "id": "254db1b3",
   "metadata": {},
   "outputs": [
    {
     "data": {
      "text/plain": [
       "TECNO MOBILE LIMITED TECNO B1p    108\n",
       "HMD Global Nokia 2.2               98\n",
       "iPhone8,1                          91\n",
       "TECNO F3                           86\n",
       "HUAWEI MAR-LX1A                    73\n",
       "                                 ... \n",
       "Samsung SM-N920V                    1\n",
       "Samsung SM-G925T                    1\n",
       "Samsung SM-G925A                    1\n",
       "Xiaomi Redmi Note 5A Prime          1\n",
       "Xiaomi Redmi Note 5A                1\n",
       "Name: device_name, Length: 497, dtype: int64"
      ]
     },
     "execution_count": 30,
     "metadata": {},
     "output_type": "execute_result"
    }
   ],
   "source": [
    "df['device_name'].value_counts()"
   ]
  },
  {
   "cell_type": "code",
   "execution_count": 23,
   "id": "09de7fe5",
   "metadata": {},
   "outputs": [
    {
     "data": {
      "text/plain": [
       "CI.4.17    723\n",
       "CI.4.19    624\n",
       "CA.5.44    560\n",
       "CA.5.43    406\n",
       "CA.5.42    365\n",
       "          ... \n",
       "CA.4.44      1\n",
       "CI.3.81      1\n",
       "CI.3.44      1\n",
       "CI.3.62      1\n",
       "CI.3.93      1\n",
       "Name: rider_app_version, Length: 114, dtype: int64"
      ]
     },
     "execution_count": 23,
     "metadata": {},
     "output_type": "execute_result"
    }
   ],
   "source": [
    "df['rider_app_version'].value_counts()"
   ]
  },
  {
   "cell_type": "code",
   "execution_count": 32,
   "id": "3dafc730",
   "metadata": {},
   "outputs": [
    {
     "data": {
      "text/html": [
       "<div>\n",
       "<style scoped>\n",
       "    .dataframe tbody tr th:only-of-type {\n",
       "        vertical-align: middle;\n",
       "    }\n",
       "\n",
       "    .dataframe tbody tr th {\n",
       "        vertical-align: top;\n",
       "    }\n",
       "\n",
       "    .dataframe thead th {\n",
       "        text-align: right;\n",
       "    }\n",
       "</style>\n",
       "<table border=\"1\" class=\"dataframe\">\n",
       "  <thead>\n",
       "    <tr style=\"text-align: right;\">\n",
       "      <th>overpaid_ride_ticket</th>\n",
       "      <th>0</th>\n",
       "      <th>1</th>\n",
       "    </tr>\n",
       "    <tr>\n",
       "      <th>device_name</th>\n",
       "      <th></th>\n",
       "      <th></th>\n",
       "    </tr>\n",
       "  </thead>\n",
       "  <tbody>\n",
       "    <tr>\n",
       "      <th>Alps F9 Pro</th>\n",
       "      <td>10</td>\n",
       "      <td>0</td>\n",
       "    </tr>\n",
       "    <tr>\n",
       "      <th>Alps NODROPOUT T25</th>\n",
       "      <td>1</td>\n",
       "      <td>0</td>\n",
       "    </tr>\n",
       "    <tr>\n",
       "      <th>Alps TECNO B1p</th>\n",
       "      <td>1</td>\n",
       "      <td>0</td>\n",
       "    </tr>\n",
       "    <tr>\n",
       "      <th>Asus ASUS_A002</th>\n",
       "      <td>5</td>\n",
       "      <td>0</td>\n",
       "    </tr>\n",
       "    <tr>\n",
       "      <th>Asus ASUS_X00TD</th>\n",
       "      <td>3</td>\n",
       "      <td>0</td>\n",
       "    </tr>\n",
       "    <tr>\n",
       "      <th>...</th>\n",
       "      <td>...</td>\n",
       "      <td>...</td>\n",
       "    </tr>\n",
       "    <tr>\n",
       "      <th>iPhone8,1</th>\n",
       "      <td>90</td>\n",
       "      <td>1</td>\n",
       "    </tr>\n",
       "    <tr>\n",
       "      <th>iPhone8,2</th>\n",
       "      <td>18</td>\n",
       "      <td>0</td>\n",
       "    </tr>\n",
       "    <tr>\n",
       "      <th>iPhone8,4</th>\n",
       "      <td>35</td>\n",
       "      <td>0</td>\n",
       "    </tr>\n",
       "    <tr>\n",
       "      <th>iPhone9,3</th>\n",
       "      <td>62</td>\n",
       "      <td>0</td>\n",
       "    </tr>\n",
       "    <tr>\n",
       "      <th>iPhone9,4</th>\n",
       "      <td>16</td>\n",
       "      <td>0</td>\n",
       "    </tr>\n",
       "  </tbody>\n",
       "</table>\n",
       "<p>497 rows × 2 columns</p>\n",
       "</div>"
      ],
      "text/plain": [
       "overpaid_ride_ticket   0  1\n",
       "device_name                \n",
       "Alps F9 Pro           10  0\n",
       "Alps NODROPOUT T25     1  0\n",
       "Alps TECNO B1p         1  0\n",
       "Asus ASUS_A002         5  0\n",
       "Asus ASUS_X00TD        3  0\n",
       "...                   .. ..\n",
       "iPhone8,1             90  1\n",
       "iPhone8,2             18  0\n",
       "iPhone8,4             35  0\n",
       "iPhone9,3             62  0\n",
       "iPhone9,4             16  0\n",
       "\n",
       "[497 rows x 2 columns]"
      ]
     },
     "execution_count": 32,
     "metadata": {},
     "output_type": "execute_result"
    }
   ],
   "source": [
    "pd.crosstab(df['device_name'], df['overpaid_ride_ticket'])"
   ]
  },
  {
   "cell_type": "markdown",
   "id": "bf7d5380",
   "metadata": {},
   "source": [
    "## Data analysis using machine learning model"
   ]
  },
  {
   "cell_type": "code",
   "execution_count": 34,
   "id": "5f460ba1",
   "metadata": {},
   "outputs": [
    {
     "data": {
      "text/plain": [
       "0      2020-02-02 03:37:31\n",
       "1      2020-02-08 02:26:19\n",
       "2      2020-02-08 11:50:35\n",
       "3      2020-02-05 06:34:54\n",
       "4      2020-02-13 17:31:24\n",
       "               ...        \n",
       "4938   2020-03-07 17:42:34\n",
       "4939   2020-02-22 18:15:45\n",
       "4940   2020-03-12 23:08:31\n",
       "4941   2020-03-08 20:15:04\n",
       "4942   2020-02-09 07:21:22\n",
       "Name: calc_created, Length: 4943, dtype: datetime64[ns]"
      ]
     },
     "execution_count": 34,
     "metadata": {},
     "output_type": "execute_result"
    }
   ],
   "source": [
    "df['calc_created']"
   ]
  },
  {
   "cell_type": "code",
   "execution_count": 37,
   "id": "8af74d84",
   "metadata": {},
   "outputs": [],
   "source": [
    "# Converting to int\n",
    "df['dt_unix'] = df['calc_created'].astype(int) / 10**9"
   ]
  },
  {
   "cell_type": "code",
   "execution_count": 38,
   "id": "fac10bbd",
   "metadata": {},
   "outputs": [
    {
     "data": {
      "text/plain": [
       "0       1.580615e+09\n",
       "1       1.581129e+09\n",
       "2       1.581163e+09\n",
       "3       1.580884e+09\n",
       "4       1.581615e+09\n",
       "            ...     \n",
       "4938    1.583603e+09\n",
       "4939    1.582395e+09\n",
       "4940    1.584055e+09\n",
       "4941    1.583699e+09\n",
       "4942    1.581233e+09\n",
       "Name: dt_unix, Length: 4943, dtype: float64"
      ]
     },
     "execution_count": 38,
     "metadata": {},
     "output_type": "execute_result"
    }
   ],
   "source": [
    "df['dt_unix']"
   ]
  },
  {
   "cell_type": "code",
   "execution_count": 39,
   "id": "9ed06e63",
   "metadata": {},
   "outputs": [
    {
     "data": {
      "text/plain": [
       "order_id_new             0.000000\n",
       "order_try_id_new         0.000000\n",
       "calc_created             0.000000\n",
       "metered_price            0.004046\n",
       "upfront_price            0.310338\n",
       "distance                 0.000000\n",
       "duration                 0.000000\n",
       "gps_confidence           0.000000\n",
       "entered_by               0.000000\n",
       "b_state                  0.000000\n",
       "dest_change_number       0.000000\n",
       "prediction_price_type    0.004046\n",
       "predicted_distance       0.004046\n",
       "predicted_duration       0.004046\n",
       "change_reason_pricing    0.939713\n",
       "ticket_id_new            0.000000\n",
       "device_token             1.000000\n",
       "rider_app_version        0.003237\n",
       "order_state              0.000000\n",
       "order_try_state          0.000000\n",
       "driver_app_version       0.000000\n",
       "driver_device_uid_new    0.000000\n",
       "device_name              0.000000\n",
       "eu_indicator             0.000000\n",
       "overpaid_ride_ticket     0.000000\n",
       "fraud_score              0.558163\n",
       "dt_unix                  0.000000\n",
       "dtype: float64"
      ]
     },
     "execution_count": 39,
     "metadata": {},
     "output_type": "execute_result"
    }
   ],
   "source": [
    "df.isna().mean()"
   ]
  },
  {
   "cell_type": "code",
   "execution_count": 40,
   "id": "01adcfcb",
   "metadata": {},
   "outputs": [],
   "source": [
    "df = df[(~df['prediction_price_type'].isna())&(~df['rider_app_version'].isna())].copy()"
   ]
  },
  {
   "cell_type": "code",
   "execution_count": 41,
   "id": "deef68b9",
   "metadata": {},
   "outputs": [],
   "source": [
    "train = df.sample(frac=0.7,random_state=42).copy()"
   ]
  },
  {
   "cell_type": "code",
   "execution_count": 42,
   "id": "47321914",
   "metadata": {},
   "outputs": [],
   "source": [
    "val = df[~df.index.isin(train.index)].copy()"
   ]
  },
  {
   "cell_type": "code",
   "execution_count": 43,
   "id": "54df9e03",
   "metadata": {},
   "outputs": [
    {
     "data": {
      "text/plain": [
       "3446"
      ]
     },
     "execution_count": 43,
     "metadata": {},
     "output_type": "execute_result"
    }
   ],
   "source": [
    "len(train)"
   ]
  },
  {
   "cell_type": "code",
   "execution_count": 44,
   "id": "cd5f2a3b",
   "metadata": {},
   "outputs": [
    {
     "data": {
      "text/plain": [
       "1477"
      ]
     },
     "execution_count": 44,
     "metadata": {},
     "output_type": "execute_result"
    }
   ],
   "source": [
    "len(val)"
   ]
  },
  {
   "cell_type": "code",
   "execution_count": 45,
   "id": "36083320",
   "metadata": {},
   "outputs": [
    {
     "data": {
      "text/plain": [
       "4923"
      ]
     },
     "execution_count": 45,
     "metadata": {},
     "output_type": "execute_result"
    }
   ],
   "source": [
    "len(train)+len(val)"
   ]
  },
  {
   "cell_type": "code",
   "execution_count": 46,
   "id": "3d8d105e",
   "metadata": {},
   "outputs": [
    {
     "data": {
      "text/plain": [
       "4923"
      ]
     },
     "execution_count": 46,
     "metadata": {},
     "output_type": "execute_result"
    }
   ],
   "source": [
    "len(df)"
   ]
  },
  {
   "cell_type": "code",
   "execution_count": 47,
   "id": "64452a77",
   "metadata": {},
   "outputs": [
    {
     "data": {
      "text/plain": [
       "Index(['entered_by', 'b_state', 'prediction_price_type',\n",
       "       'change_reason_pricing', 'rider_app_version', 'order_state',\n",
       "       'order_try_state', 'driver_app_version', 'device_name'],\n",
       "      dtype='object')"
      ]
     },
     "execution_count": 47,
     "metadata": {},
     "output_type": "execute_result"
    }
   ],
   "source": [
    "df.select_dtypes(include='object').columns"
   ]
  },
  {
   "cell_type": "code",
   "execution_count": 48,
   "id": "2254d377",
   "metadata": {},
   "outputs": [],
   "source": [
    "X_col = ['order_id_new', 'order_try_id_new', 'metered_price',\n",
    "       'upfront_price', 'distance', 'duration', 'gps_confidence', 'entered_by',\n",
    "       'b_state', 'dest_change_number', 'prediction_price_type',\n",
    "       'predicted_distance', 'predicted_duration',\n",
    "       'ticket_id_new', 'device_token', 'rider_app_version', 'order_state',\n",
    "       'order_try_state', 'driver_app_version', 'driver_device_uid_new',\n",
    "       'device_name', 'eu_indicator', 'fraud_score',\n",
    "       'dt_unix']\n",
    "y_col = ['overpaid_ride_ticket']\n",
    "cat_features = ['entered_by', 'b_state', 'prediction_price_type',\n",
    "        'rider_app_version', 'order_state',\n",
    "       'order_try_state', 'driver_app_version', 'device_name']"
   ]
  },
  {
   "cell_type": "code",
   "execution_count": 49,
   "id": "388a2db0",
   "metadata": {},
   "outputs": [],
   "source": [
    "model = CatBoostClassifier(learning_rate=0.005,\n",
    "                           eval_metric='AUC',\n",
    "                           cat_features=cat_features,verbose=100)"
   ]
  },
  {
   "cell_type": "code",
   "execution_count": 50,
   "id": "e7b14c51",
   "metadata": {},
   "outputs": [
    {
     "name": "stdout",
     "output_type": "stream",
     "text": [
      "0:\ttest: 0.8134606\tbest: 0.8134606 (0)\ttotal: 63.2ms\tremaining: 1m 3s\n",
      "100:\ttest: 0.8499669\tbest: 0.8499669 (99)\ttotal: 357ms\tremaining: 3.18s\n",
      "200:\ttest: 0.8571984\tbest: 0.8572200 (198)\ttotal: 682ms\tremaining: 2.71s\n",
      "300:\ttest: 0.8617531\tbest: 0.8617531 (300)\ttotal: 991ms\tremaining: 2.3s\n",
      "400:\ttest: 0.8630771\tbest: 0.8634728 (327)\ttotal: 1.31s\tremaining: 1.96s\n",
      "500:\ttest: 0.8635340\tbest: 0.8639154 (492)\ttotal: 1.65s\tremaining: 1.64s\n",
      "600:\ttest: 0.8622244\tbest: 0.8640521 (513)\ttotal: 2s\tremaining: 1.33s\n",
      "700:\ttest: 0.8621237\tbest: 0.8640521 (513)\ttotal: 2.35s\tremaining: 1s\n",
      "800:\ttest: 0.8625842\tbest: 0.8640521 (513)\ttotal: 2.72s\tremaining: 675ms\n",
      "900:\ttest: 0.8629584\tbest: 0.8640521 (513)\ttotal: 3.06s\tremaining: 337ms\n",
      "999:\ttest: 0.8630519\tbest: 0.8640521 (513)\ttotal: 3.4s\tremaining: 0us\n",
      "\n",
      "bestTest = 0.8640520665\n",
      "bestIteration = 513\n",
      "\n",
      "Shrink model to first 514 iterations.\n"
     ]
    },
    {
     "data": {
      "text/plain": [
       "<catboost.core.CatBoostClassifier at 0x16d9a35b0>"
      ]
     },
     "execution_count": 50,
     "metadata": {},
     "output_type": "execute_result"
    }
   ],
   "source": [
    "model.fit(train[X_col],train[y_col],\n",
    "          eval_set=(val[X_col],val[y_col]))"
   ]
  },
  {
   "cell_type": "code",
   "execution_count": 51,
   "id": "e09e7f68",
   "metadata": {},
   "outputs": [
    {
     "data": {
      "text/plain": [
       "array([[0.98799898, 0.01200102],\n",
       "       [0.83894529, 0.16105471],\n",
       "       [0.94108298, 0.05891702],\n",
       "       ...,\n",
       "       [0.9832305 , 0.0167695 ],\n",
       "       [0.94981749, 0.05018251],\n",
       "       [0.98463143, 0.01536857]])"
      ]
     },
     "execution_count": 51,
     "metadata": {},
     "output_type": "execute_result"
    }
   ],
   "source": [
    "model.predict_proba(val[X_col])"
   ]
  },
  {
   "cell_type": "code",
   "execution_count": 52,
   "id": "ec6a70b9",
   "metadata": {},
   "outputs": [],
   "source": [
    "fi = pd.DataFrame({'feature':X_col,'fi':model.feature_importances_})"
   ]
  },
  {
   "cell_type": "code",
   "execution_count": 53,
   "id": "2360f066",
   "metadata": {},
   "outputs": [
    {
     "data": {
      "text/html": [
       "<div>\n",
       "<style scoped>\n",
       "    .dataframe tbody tr th:only-of-type {\n",
       "        vertical-align: middle;\n",
       "    }\n",
       "\n",
       "    .dataframe tbody tr th {\n",
       "        vertical-align: top;\n",
       "    }\n",
       "\n",
       "    .dataframe thead th {\n",
       "        text-align: right;\n",
       "    }\n",
       "</style>\n",
       "<table border=\"1\" class=\"dataframe\">\n",
       "  <thead>\n",
       "    <tr style=\"text-align: right;\">\n",
       "      <th></th>\n",
       "      <th>feature</th>\n",
       "      <th>fi</th>\n",
       "    </tr>\n",
       "  </thead>\n",
       "  <tbody>\n",
       "    <tr>\n",
       "      <th>2</th>\n",
       "      <td>metered_price</td>\n",
       "      <td>13.959086</td>\n",
       "    </tr>\n",
       "    <tr>\n",
       "      <th>10</th>\n",
       "      <td>prediction_price_type</td>\n",
       "      <td>11.959423</td>\n",
       "    </tr>\n",
       "    <tr>\n",
       "      <th>21</th>\n",
       "      <td>eu_indicator</td>\n",
       "      <td>11.573707</td>\n",
       "    </tr>\n",
       "    <tr>\n",
       "      <th>22</th>\n",
       "      <td>fraud_score</td>\n",
       "      <td>8.224713</td>\n",
       "    </tr>\n",
       "    <tr>\n",
       "      <th>20</th>\n",
       "      <td>device_name</td>\n",
       "      <td>7.169111</td>\n",
       "    </tr>\n",
       "    <tr>\n",
       "      <th>6</th>\n",
       "      <td>gps_confidence</td>\n",
       "      <td>6.821643</td>\n",
       "    </tr>\n",
       "    <tr>\n",
       "      <th>5</th>\n",
       "      <td>duration</td>\n",
       "      <td>6.505697</td>\n",
       "    </tr>\n",
       "    <tr>\n",
       "      <th>18</th>\n",
       "      <td>driver_app_version</td>\n",
       "      <td>4.982664</td>\n",
       "    </tr>\n",
       "    <tr>\n",
       "      <th>4</th>\n",
       "      <td>distance</td>\n",
       "      <td>4.202336</td>\n",
       "    </tr>\n",
       "    <tr>\n",
       "      <th>3</th>\n",
       "      <td>upfront_price</td>\n",
       "      <td>4.023868</td>\n",
       "    </tr>\n",
       "    <tr>\n",
       "      <th>15</th>\n",
       "      <td>rider_app_version</td>\n",
       "      <td>3.344873</td>\n",
       "    </tr>\n",
       "    <tr>\n",
       "      <th>0</th>\n",
       "      <td>order_id_new</td>\n",
       "      <td>2.693790</td>\n",
       "    </tr>\n",
       "    <tr>\n",
       "      <th>12</th>\n",
       "      <td>predicted_duration</td>\n",
       "      <td>2.504253</td>\n",
       "    </tr>\n",
       "    <tr>\n",
       "      <th>13</th>\n",
       "      <td>ticket_id_new</td>\n",
       "      <td>2.328123</td>\n",
       "    </tr>\n",
       "    <tr>\n",
       "      <th>23</th>\n",
       "      <td>dt_unix</td>\n",
       "      <td>2.302573</td>\n",
       "    </tr>\n",
       "    <tr>\n",
       "      <th>11</th>\n",
       "      <td>predicted_distance</td>\n",
       "      <td>2.208755</td>\n",
       "    </tr>\n",
       "    <tr>\n",
       "      <th>1</th>\n",
       "      <td>order_try_id_new</td>\n",
       "      <td>2.063901</td>\n",
       "    </tr>\n",
       "    <tr>\n",
       "      <th>19</th>\n",
       "      <td>driver_device_uid_new</td>\n",
       "      <td>1.855088</td>\n",
       "    </tr>\n",
       "    <tr>\n",
       "      <th>9</th>\n",
       "      <td>dest_change_number</td>\n",
       "      <td>0.955501</td>\n",
       "    </tr>\n",
       "    <tr>\n",
       "      <th>7</th>\n",
       "      <td>entered_by</td>\n",
       "      <td>0.276202</td>\n",
       "    </tr>\n",
       "    <tr>\n",
       "      <th>16</th>\n",
       "      <td>order_state</td>\n",
       "      <td>0.044695</td>\n",
       "    </tr>\n",
       "    <tr>\n",
       "      <th>14</th>\n",
       "      <td>device_token</td>\n",
       "      <td>0.000000</td>\n",
       "    </tr>\n",
       "    <tr>\n",
       "      <th>17</th>\n",
       "      <td>order_try_state</td>\n",
       "      <td>0.000000</td>\n",
       "    </tr>\n",
       "    <tr>\n",
       "      <th>8</th>\n",
       "      <td>b_state</td>\n",
       "      <td>0.000000</td>\n",
       "    </tr>\n",
       "  </tbody>\n",
       "</table>\n",
       "</div>"
      ],
      "text/plain": [
       "                  feature         fi\n",
       "2           metered_price  13.959086\n",
       "10  prediction_price_type  11.959423\n",
       "21           eu_indicator  11.573707\n",
       "22            fraud_score   8.224713\n",
       "20            device_name   7.169111\n",
       "6          gps_confidence   6.821643\n",
       "5                duration   6.505697\n",
       "18     driver_app_version   4.982664\n",
       "4                distance   4.202336\n",
       "3           upfront_price   4.023868\n",
       "15      rider_app_version   3.344873\n",
       "0            order_id_new   2.693790\n",
       "12     predicted_duration   2.504253\n",
       "13          ticket_id_new   2.328123\n",
       "23                dt_unix   2.302573\n",
       "11     predicted_distance   2.208755\n",
       "1        order_try_id_new   2.063901\n",
       "19  driver_device_uid_new   1.855088\n",
       "9      dest_change_number   0.955501\n",
       "7              entered_by   0.276202\n",
       "16            order_state   0.044695\n",
       "14           device_token   0.000000\n",
       "17        order_try_state   0.000000\n",
       "8                 b_state   0.000000"
      ]
     },
     "execution_count": 53,
     "metadata": {},
     "output_type": "execute_result"
    }
   ],
   "source": [
    "fi.sort_values('fi',ascending=False)"
   ]
  },
  {
   "cell_type": "code",
   "execution_count": 55,
   "id": "5b9a533c",
   "metadata": {},
   "outputs": [
    {
     "data": {
      "image/png": "[encoded data removed]",
      "text/plain": [
       "<Figure size 432x288 with 1 Axes>"
      ]
     },
     "metadata": {
      "needs_background": "light"
     },
     "output_type": "display_data"
    }
   ],
   "source": [
    "fi.sort_values('fi',ascending=False).set_index('feature').plot(kind='bar');"
   ]
  },
  {
   "cell_type": "code",
   "execution_count": 57,
   "id": "613f69ba",
   "metadata": {},
   "outputs": [
    {
     "data": {
      "image/png": "[encoded data removed]",
      "text/plain": [
       "<Figure size 432x288 with 1 Axes>"
      ]
     },
     "metadata": {
      "needs_background": "light"
     },
     "output_type": "display_data"
    }
   ],
   "source": [
    "df['metered_price'].hist();"
   ]
  },
  {
   "cell_type": "code",
   "execution_count": 60,
   "id": "e9a13935",
   "metadata": {},
   "outputs": [],
   "source": [
    "df['metered_price_bin'] = pd.qcut(df['metered_price'], 5)"
   ]
  },
  {
   "cell_type": "code",
   "execution_count": 61,
   "id": "8b8c94b6",
   "metadata": {},
   "outputs": [
    {
     "data": {
      "text/plain": [
       "0              (1.999, 4.72]\n",
       "1               (4.72, 8.25]\n",
       "2              (1.999, 4.72]\n",
       "3       (13835.1, 194483.52]\n",
       "4       (13835.1, 194483.52]\n",
       "                ...         \n",
       "4938          (8.25, 6000.0]\n",
       "4939       (6000.0, 13835.1]\n",
       "4940            (4.72, 8.25]\n",
       "4941           (1.999, 4.72]\n",
       "4942    (13835.1, 194483.52]\n",
       "Name: metered_price_bin, Length: 4923, dtype: category\n",
       "Categories (5, interval[float64, right]): [(1.999, 4.72] < (4.72, 8.25] < (8.25, 6000.0] < (6000.0, 13835.1] < (13835.1, 194483.52]]"
      ]
     },
     "execution_count": 61,
     "metadata": {},
     "output_type": "execute_result"
    }
   ],
   "source": [
    "df['metered_price_bin']"
   ]
  },
  {
   "cell_type": "code",
   "execution_count": 62,
   "id": "1c97a00e",
   "metadata": {},
   "outputs": [
    {
     "data": {
      "text/plain": [
       "(8.25, 6000.0]          1291\n",
       "(1.999, 4.72]            992\n",
       "(13835.1, 194483.52]     985\n",
       "(4.72, 8.25]             978\n",
       "(6000.0, 13835.1]        677\n",
       "Name: metered_price_bin, dtype: int64"
      ]
     },
     "execution_count": 62,
     "metadata": {},
     "output_type": "execute_result"
    }
   ],
   "source": [
    "df['metered_price_bin'].value_counts()"
   ]
  },
  {
   "cell_type": "code",
   "execution_count": 63,
   "id": "154982f8",
   "metadata": {},
   "outputs": [
    {
     "data": {
      "text/html": [
       "<div>\n",
       "<style scoped>\n",
       "    .dataframe tbody tr th:only-of-type {\n",
       "        vertical-align: middle;\n",
       "    }\n",
       "\n",
       "    .dataframe tbody tr th {\n",
       "        vertical-align: top;\n",
       "    }\n",
       "\n",
       "    .dataframe thead th {\n",
       "        text-align: right;\n",
       "    }\n",
       "</style>\n",
       "<table border=\"1\" class=\"dataframe\">\n",
       "  <thead>\n",
       "    <tr style=\"text-align: right;\">\n",
       "      <th></th>\n",
       "      <th>count</th>\n",
       "      <th>mean</th>\n",
       "    </tr>\n",
       "    <tr>\n",
       "      <th>metered_price_bin</th>\n",
       "      <th></th>\n",
       "      <th></th>\n",
       "    </tr>\n",
       "  </thead>\n",
       "  <tbody>\n",
       "    <tr>\n",
       "      <th>(1.999, 4.72]</th>\n",
       "      <td>992</td>\n",
       "      <td>0.000000</td>\n",
       "    </tr>\n",
       "    <tr>\n",
       "      <th>(4.72, 8.25]</th>\n",
       "      <td>978</td>\n",
       "      <td>0.005112</td>\n",
       "    </tr>\n",
       "    <tr>\n",
       "      <th>(8.25, 6000.0]</th>\n",
       "      <td>1291</td>\n",
       "      <td>0.040279</td>\n",
       "    </tr>\n",
       "    <tr>\n",
       "      <th>(6000.0, 13835.1]</th>\n",
       "      <td>677</td>\n",
       "      <td>0.138848</td>\n",
       "    </tr>\n",
       "    <tr>\n",
       "      <th>(13835.1, 194483.52]</th>\n",
       "      <td>985</td>\n",
       "      <td>0.188832</td>\n",
       "    </tr>\n",
       "  </tbody>\n",
       "</table>\n",
       "</div>"
      ],
      "text/plain": [
       "                      count      mean\n",
       "metered_price_bin                    \n",
       "(1.999, 4.72]           992  0.000000\n",
       "(4.72, 8.25]            978  0.005112\n",
       "(8.25, 6000.0]         1291  0.040279\n",
       "(6000.0, 13835.1]       677  0.138848\n",
       "(13835.1, 194483.52]    985  0.188832"
      ]
     },
     "execution_count": 63,
     "metadata": {},
     "output_type": "execute_result"
    }
   ],
   "source": [
    "df.groupby('metered_price_bin')['overpaid_ride_ticket'].agg(['count','mean'])"
   ]
  },
  {
   "cell_type": "code",
   "execution_count": 64,
   "id": "cf2258db",
   "metadata": {},
   "outputs": [
    {
     "data": {
      "text/html": [
       "<div>\n",
       "<style scoped>\n",
       "    .dataframe tbody tr th:only-of-type {\n",
       "        vertical-align: middle;\n",
       "    }\n",
       "\n",
       "    .dataframe tbody tr th {\n",
       "        vertical-align: top;\n",
       "    }\n",
       "\n",
       "    .dataframe thead th {\n",
       "        text-align: right;\n",
       "    }\n",
       "</style>\n",
       "<table border=\"1\" class=\"dataframe\">\n",
       "  <thead>\n",
       "    <tr style=\"text-align: right;\">\n",
       "      <th></th>\n",
       "      <th>count</th>\n",
       "      <th>mean</th>\n",
       "    </tr>\n",
       "    <tr>\n",
       "      <th>prediction_price_type</th>\n",
       "      <th></th>\n",
       "      <th></th>\n",
       "    </tr>\n",
       "  </thead>\n",
       "  <tbody>\n",
       "    <tr>\n",
       "      <th>prediction</th>\n",
       "      <td>1279</td>\n",
       "      <td>0.173573</td>\n",
       "    </tr>\n",
       "    <tr>\n",
       "      <th>upfront</th>\n",
       "      <td>3432</td>\n",
       "      <td>0.032634</td>\n",
       "    </tr>\n",
       "    <tr>\n",
       "      <th>upfront_destination_changed</th>\n",
       "      <td>208</td>\n",
       "      <td>0.014423</td>\n",
       "    </tr>\n",
       "    <tr>\n",
       "      <th>upfront_waypoint_changed</th>\n",
       "      <td>4</td>\n",
       "      <td>0.000000</td>\n",
       "    </tr>\n",
       "  </tbody>\n",
       "</table>\n",
       "</div>"
      ],
      "text/plain": [
       "                             count      mean\n",
       "prediction_price_type                       \n",
       "prediction                    1279  0.173573\n",
       "upfront                       3432  0.032634\n",
       "upfront_destination_changed    208  0.014423\n",
       "upfront_waypoint_changed         4  0.000000"
      ]
     },
     "execution_count": 64,
     "metadata": {},
     "output_type": "execute_result"
    }
   ],
   "source": [
    "df.groupby('prediction_price_type')['overpaid_ride_ticket'].agg(['count','mean'])"
   ]
  },
  {
   "cell_type": "code",
   "execution_count": null,
   "id": "75e9aad6",
   "metadata": {},
   "outputs": [],
   "source": []
  }
 ],
 "metadata": {
  "kernelspec": {
   "display_name": "Python 3 (ipykernel)",
   "language": "python",
   "name": "python3"
  },
  "language_info": {
   "codemirror_mode": {
    "name": "ipython",
    "version": 3
   },
   "file_extension": ".py",
   "mimetype": "text/x-python",
   "name": "python",
   "nbconvert_exporter": "python",
   "pygments_lexer": "ipython3",
   "version": "3.8.9"
  }
 },
 "nbformat": 4,
 "nbformat_minor": 5
}
