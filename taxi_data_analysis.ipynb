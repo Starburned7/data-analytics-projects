{
 "cells": [
  {
   "cell_type": "markdown",
   "id": "a8d0cd20",
   "metadata": {},
   "source": [
    "## Taxi data set analysis"
   ]
  },
  {
   "cell_type": "code",
   "execution_count": 18,
   "id": "1053cf14",
   "metadata": {},
   "outputs": [],
   "source": [
    "import pandas as pd\n",
    "import numpy as np\n",
    "import seaborn as sns\n",
    "import matplotlib.pyplot as plt"
   ]
  },
  {
   "cell_type": "markdown",
   "id": "9e0e2161",
   "metadata": {},
   "source": [
    "The key aspect of ride-hailing is the price. It relies on technology to collect accurate tracking data so that a fair price can be calculated at the end of the trip. Fortunately, our riders are quick to tell us when they overpaid and we can use that feedback to improve our product.\n",
    "\n",
    "**Please analyze the dataset to identify top opportunities for reducing the number of overcharge tickets and present your results.**\n",
    "\n",
    "Variables in the file:\n",
    "\n",
    "order_id_new, order_try_id_new - id of an order\n",
    "\n",
    "calc_created- time when the order was created\n",
    "\n",
    "metered_price, distance, duration- actual price, distance and duration of a ride\n",
    "\n",
    "upfront_price- promised to the rider price, based on predicted duration (predicted_duration) and distance (predicted_distance)\n",
    "\n",
    "distance - ride distance\n",
    "\n",
    "duration - ride duration\n",
    "\n",
    "gps_confidence- indicator for good GPS connection (1 - good one, 0 - bad one)\n",
    "\n",
    "entered_by- who entered the address\n",
    "\n",
    "b_state- state of a ride (finished implies that the ride was actually done)\n",
    "\n",
    "dest_change_number- number of destination changes by a rider\n",
    "\n",
    "predicted distance - predicted duration of a ride based on the pickup and dropoff points entered by the rider requesting a car\n",
    "\n",
    "predicted duration - predicted duration of a ride based on the pickup and dropoff points entered by the rider requesting a car\n",
    "\n",
    "prediction_price_type- internal variable for the type of prediction:\n",
    "\n",
    "upfront, prediction - prediction happened before the ride\n",
    "\n",
    "upfront_destination_changed - prediction happened after rider changed destination during the ride\n",
    "\n",
    "change_reason_pricing - records due to whose action the price changed\n",
    "\n",
    "ticket_id_new - id for customer support ticket"
   ]
  },
  {
   "cell_type": "code",
   "execution_count": 2,
   "id": "b5194a62",
   "metadata": {},
   "outputs": [],
   "source": [
    "df = pd.read_csv('/Users/starburned/data_analytics_projects/data/Analytical_Task_Taxi.csv')"
   ]
  },
  {
   "cell_type": "code",
   "execution_count": 3,
   "id": "2f398736",
   "metadata": {},
   "outputs": [
    {
     "data": {
      "text/html": [
       "<div>\n",
       "<style scoped>\n",
       "    .dataframe tbody tr th:only-of-type {\n",
       "        vertical-align: middle;\n",
       "    }\n",
       "\n",
       "    .dataframe tbody tr th {\n",
       "        vertical-align: top;\n",
       "    }\n",
       "\n",
       "    .dataframe thead th {\n",
       "        text-align: right;\n",
       "    }\n",
       "</style>\n",
       "<table border=\"1\" class=\"dataframe\">\n",
       "  <thead>\n",
       "    <tr style=\"text-align: right;\">\n",
       "      <th></th>\n",
       "      <th>order_id_new</th>\n",
       "      <th>order_try_id_new</th>\n",
       "      <th>calc_created</th>\n",
       "      <th>metered_price</th>\n",
       "      <th>upfront_price</th>\n",
       "      <th>distance</th>\n",
       "      <th>duration</th>\n",
       "      <th>gps_confidence</th>\n",
       "      <th>entered_by</th>\n",
       "      <th>b_state</th>\n",
       "      <th>...</th>\n",
       "      <th>device_token</th>\n",
       "      <th>rider_app_version</th>\n",
       "      <th>order_state</th>\n",
       "      <th>order_try_state</th>\n",
       "      <th>driver_app_version</th>\n",
       "      <th>driver_device_uid_new</th>\n",
       "      <th>device_name</th>\n",
       "      <th>eu_indicator</th>\n",
       "      <th>overpaid_ride_ticket</th>\n",
       "      <th>fraud_score</th>\n",
       "    </tr>\n",
       "  </thead>\n",
       "  <tbody>\n",
       "    <tr>\n",
       "      <th>0</th>\n",
       "      <td>22</td>\n",
       "      <td>22</td>\n",
       "      <td>2020-02-02 3:37:31</td>\n",
       "      <td>4.04</td>\n",
       "      <td>10.0</td>\n",
       "      <td>2839</td>\n",
       "      <td>700</td>\n",
       "      <td>1</td>\n",
       "      <td>client</td>\n",
       "      <td>finished</td>\n",
       "      <td>...</td>\n",
       "      <td>NaN</td>\n",
       "      <td>CI.4.17</td>\n",
       "      <td>finished</td>\n",
       "      <td>finished</td>\n",
       "      <td>DA.4.37</td>\n",
       "      <td>1596</td>\n",
       "      <td>Xiaomi Redmi 6</td>\n",
       "      <td>1</td>\n",
       "      <td>0</td>\n",
       "      <td>-1383.0</td>\n",
       "    </tr>\n",
       "    <tr>\n",
       "      <th>1</th>\n",
       "      <td>618</td>\n",
       "      <td>618</td>\n",
       "      <td>2020-02-08 2:26:19</td>\n",
       "      <td>6.09</td>\n",
       "      <td>3.6</td>\n",
       "      <td>5698</td>\n",
       "      <td>493</td>\n",
       "      <td>1</td>\n",
       "      <td>client</td>\n",
       "      <td>finished</td>\n",
       "      <td>...</td>\n",
       "      <td>NaN</td>\n",
       "      <td>CA.5.43</td>\n",
       "      <td>finished</td>\n",
       "      <td>finished</td>\n",
       "      <td>DA.4.39</td>\n",
       "      <td>1578</td>\n",
       "      <td>Samsung SM-G965F</td>\n",
       "      <td>1</td>\n",
       "      <td>0</td>\n",
       "      <td>NaN</td>\n",
       "    </tr>\n",
       "    <tr>\n",
       "      <th>2</th>\n",
       "      <td>657</td>\n",
       "      <td>657</td>\n",
       "      <td>2020-02-08 11:50:35</td>\n",
       "      <td>4.32</td>\n",
       "      <td>3.5</td>\n",
       "      <td>4426</td>\n",
       "      <td>695</td>\n",
       "      <td>1</td>\n",
       "      <td>client</td>\n",
       "      <td>finished</td>\n",
       "      <td>...</td>\n",
       "      <td>NaN</td>\n",
       "      <td>CA.5.43</td>\n",
       "      <td>finished</td>\n",
       "      <td>finished</td>\n",
       "      <td>DA.4.37</td>\n",
       "      <td>951</td>\n",
       "      <td>Samsung SM-A530F</td>\n",
       "      <td>1</td>\n",
       "      <td>0</td>\n",
       "      <td>-166.0</td>\n",
       "    </tr>\n",
       "    <tr>\n",
       "      <th>3</th>\n",
       "      <td>313</td>\n",
       "      <td>313</td>\n",
       "      <td>2020-02-05 6:34:54</td>\n",
       "      <td>72871.72</td>\n",
       "      <td>NaN</td>\n",
       "      <td>49748</td>\n",
       "      <td>1400</td>\n",
       "      <td>0</td>\n",
       "      <td>client</td>\n",
       "      <td>finished</td>\n",
       "      <td>...</td>\n",
       "      <td>NaN</td>\n",
       "      <td>CA.5.23</td>\n",
       "      <td>finished</td>\n",
       "      <td>finished</td>\n",
       "      <td>DA.4.37</td>\n",
       "      <td>1587</td>\n",
       "      <td>TECNO-Y6</td>\n",
       "      <td>0</td>\n",
       "      <td>1</td>\n",
       "      <td>NaN</td>\n",
       "    </tr>\n",
       "    <tr>\n",
       "      <th>4</th>\n",
       "      <td>1176</td>\n",
       "      <td>1176</td>\n",
       "      <td>2020-02-13 17:31:24</td>\n",
       "      <td>20032.50</td>\n",
       "      <td>19500.0</td>\n",
       "      <td>10273</td>\n",
       "      <td>5067</td>\n",
       "      <td>1</td>\n",
       "      <td>client</td>\n",
       "      <td>finished</td>\n",
       "      <td>...</td>\n",
       "      <td>NaN</td>\n",
       "      <td>CA.5.04</td>\n",
       "      <td>finished</td>\n",
       "      <td>finished</td>\n",
       "      <td>DA.4.37</td>\n",
       "      <td>433</td>\n",
       "      <td>Itel W5504</td>\n",
       "      <td>0</td>\n",
       "      <td>0</td>\n",
       "      <td>NaN</td>\n",
       "    </tr>\n",
       "  </tbody>\n",
       "</table>\n",
       "<p>5 rows × 26 columns</p>\n",
       "</div>"
      ],
      "text/plain": [
       "   order_id_new  order_try_id_new         calc_created  metered_price  \\\n",
       "0            22                22   2020-02-02 3:37:31           4.04   \n",
       "1           618               618   2020-02-08 2:26:19           6.09   \n",
       "2           657               657  2020-02-08 11:50:35           4.32   \n",
       "3           313               313   2020-02-05 6:34:54       72871.72   \n",
       "4          1176              1176  2020-02-13 17:31:24       20032.50   \n",
       "\n",
       "   upfront_price  distance  duration  gps_confidence entered_by   b_state  \\\n",
       "0           10.0      2839       700               1     client  finished   \n",
       "1            3.6      5698       493               1     client  finished   \n",
       "2            3.5      4426       695               1     client  finished   \n",
       "3            NaN     49748      1400               0     client  finished   \n",
       "4        19500.0     10273      5067               1     client  finished   \n",
       "\n",
       "   ...  device_token rider_app_version  order_state  order_try_state  \\\n",
       "0  ...           NaN           CI.4.17     finished         finished   \n",
       "1  ...           NaN           CA.5.43     finished         finished   \n",
       "2  ...           NaN           CA.5.43     finished         finished   \n",
       "3  ...           NaN           CA.5.23     finished         finished   \n",
       "4  ...           NaN           CA.5.04     finished         finished   \n",
       "\n",
       "  driver_app_version  driver_device_uid_new       device_name eu_indicator  \\\n",
       "0            DA.4.37                   1596    Xiaomi Redmi 6            1   \n",
       "1            DA.4.39                   1578  Samsung SM-G965F            1   \n",
       "2            DA.4.37                    951  Samsung SM-A530F            1   \n",
       "3            DA.4.37                   1587          TECNO-Y6            0   \n",
       "4            DA.4.37                    433        Itel W5504            0   \n",
       "\n",
       "  overpaid_ride_ticket fraud_score  \n",
       "0                    0     -1383.0  \n",
       "1                    0         NaN  \n",
       "2                    0      -166.0  \n",
       "3                    1         NaN  \n",
       "4                    0         NaN  \n",
       "\n",
       "[5 rows x 26 columns]"
      ]
     },
     "execution_count": 3,
     "metadata": {},
     "output_type": "execute_result"
    }
   ],
   "source": [
    "df.head()"
   ]
  },
  {
   "cell_type": "code",
   "execution_count": 8,
   "id": "b67dcbbb",
   "metadata": {},
   "outputs": [
    {
     "data": {
      "text/plain": [
       "4943"
      ]
     },
     "execution_count": 8,
     "metadata": {},
     "output_type": "execute_result"
    }
   ],
   "source": [
    "len(df)"
   ]
  },
  {
   "cell_type": "code",
   "execution_count": 7,
   "id": "98e561a6",
   "metadata": {},
   "outputs": [
    {
     "data": {
      "text/plain": [
       "Index(['order_id_new', 'order_try_id_new', 'calc_created', 'metered_price',\n",
       "       'upfront_price', 'distance', 'duration', 'gps_confidence', 'entered_by',\n",
       "       'b_state', 'dest_change_number', 'prediction_price_type',\n",
       "       'predicted_distance', 'predicted_duration', 'change_reason_pricing',\n",
       "       'ticket_id_new', 'device_token', 'rider_app_version', 'order_state',\n",
       "       'order_try_state', 'driver_app_version', 'driver_device_uid_new',\n",
       "       'device_name', 'eu_indicator', 'overpaid_ride_ticket', 'fraud_score'],\n",
       "      dtype='object')"
      ]
     },
     "execution_count": 7,
     "metadata": {},
     "output_type": "execute_result"
    }
   ],
   "source": [
    "df.columns"
   ]
  },
  {
   "cell_type": "code",
   "execution_count": 6,
   "id": "c455671b",
   "metadata": {},
   "outputs": [
    {
     "data": {
      "text/plain": [
       "0    4606\n",
       "1     337\n",
       "Name: overpaid_ride_ticket, dtype: int64"
      ]
     },
     "execution_count": 6,
     "metadata": {},
     "output_type": "execute_result"
    }
   ],
   "source": [
    "df['overpaid_ride_ticket'].value_counts()"
   ]
  },
  {
   "cell_type": "code",
   "execution_count": 18,
   "id": "af076ad4",
   "metadata": {},
   "outputs": [
    {
     "data": {
      "text/plain": [
       "min   2020-02-02 00:01:16\n",
       "max   2020-03-13 23:52:07\n",
       "Name: calc_created, dtype: datetime64[ns]"
      ]
     },
     "execution_count": 18,
     "metadata": {},
     "output_type": "execute_result"
    }
   ],
   "source": [
    "df['calc_created'].agg(['min', 'max'])"
   ]
  },
  {
   "cell_type": "code",
   "execution_count": 15,
   "id": "46be53e4",
   "metadata": {},
   "outputs": [
    {
     "data": {
      "text/plain": [
       "order_id_new               int64\n",
       "order_try_id_new           int64\n",
       "calc_created              object\n",
       "metered_price            float64\n",
       "upfront_price            float64\n",
       "distance                   int64\n",
       "duration                   int64\n",
       "gps_confidence             int64\n",
       "entered_by                object\n",
       "b_state                   object\n",
       "dest_change_number         int64\n",
       "prediction_price_type     object\n",
       "predicted_distance       float64\n",
       "predicted_duration       float64\n",
       "change_reason_pricing     object\n",
       "ticket_id_new              int64\n",
       "device_token             float64\n",
       "rider_app_version         object\n",
       "order_state               object\n",
       "order_try_state           object\n",
       "driver_app_version        object\n",
       "driver_device_uid_new      int64\n",
       "device_name               object\n",
       "eu_indicator               int64\n",
       "overpaid_ride_ticket       int64\n",
       "fraud_score              float64\n",
       "dtype: object"
      ]
     },
     "execution_count": 15,
     "metadata": {},
     "output_type": "execute_result"
    }
   ],
   "source": [
    "df.dtypes"
   ]
  },
  {
   "cell_type": "code",
   "execution_count": 4,
   "id": "df078829",
   "metadata": {},
   "outputs": [],
   "source": [
    "df['calc_created'] = pd.to_datetime(df['calc_created'],format='%Y-%m-%d %H:%M:%S')"
   ]
  },
  {
   "cell_type": "code",
   "execution_count": 19,
   "id": "0cdeced2",
   "metadata": {},
   "outputs": [
    {
     "data": {
      "text/plain": [
       "order_id_new                0\n",
       "order_try_id_new            0\n",
       "calc_created                0\n",
       "metered_price              20\n",
       "upfront_price            1534\n",
       "distance                    0\n",
       "duration                    0\n",
       "gps_confidence              0\n",
       "entered_by                  0\n",
       "b_state                     0\n",
       "dest_change_number          0\n",
       "prediction_price_type      20\n",
       "predicted_distance         20\n",
       "predicted_duration         20\n",
       "change_reason_pricing    4645\n",
       "ticket_id_new               0\n",
       "device_token             4943\n",
       "rider_app_version          16\n",
       "order_state                 0\n",
       "order_try_state             0\n",
       "driver_app_version          0\n",
       "driver_device_uid_new       0\n",
       "device_name                 0\n",
       "eu_indicator                0\n",
       "overpaid_ride_ticket        0\n",
       "fraud_score              2759\n",
       "dtype: int64"
      ]
     },
     "execution_count": 19,
     "metadata": {},
     "output_type": "execute_result"
    }
   ],
   "source": [
    "df.isna().sum()"
   ]
  },
  {
   "cell_type": "code",
   "execution_count": 20,
   "id": "b5af35c1",
   "metadata": {},
   "outputs": [
    {
     "data": {
      "text/plain": [
       "order_id_new             0.000000\n",
       "order_try_id_new         0.000000\n",
       "calc_created             0.000000\n",
       "metered_price            0.004046\n",
       "upfront_price            0.310338\n",
       "distance                 0.000000\n",
       "duration                 0.000000\n",
       "gps_confidence           0.000000\n",
       "entered_by               0.000000\n",
       "b_state                  0.000000\n",
       "dest_change_number       0.000000\n",
       "prediction_price_type    0.004046\n",
       "predicted_distance       0.004046\n",
       "predicted_duration       0.004046\n",
       "change_reason_pricing    0.939713\n",
       "ticket_id_new            0.000000\n",
       "device_token             1.000000\n",
       "rider_app_version        0.003237\n",
       "order_state              0.000000\n",
       "order_try_state          0.000000\n",
       "driver_app_version       0.000000\n",
       "driver_device_uid_new    0.000000\n",
       "device_name              0.000000\n",
       "eu_indicator             0.000000\n",
       "overpaid_ride_ticket     0.000000\n",
       "fraud_score              0.558163\n",
       "dtype: float64"
      ]
     },
     "execution_count": 20,
     "metadata": {},
     "output_type": "execute_result"
    }
   ],
   "source": [
    "df.isna().mean()"
   ]
  },
  {
   "cell_type": "markdown",
   "id": "c8a2fe85",
   "metadata": {},
   "source": [
    "## EDA"
   ]
  },
  {
   "cell_type": "code",
   "execution_count": 12,
   "id": "a511411f",
   "metadata": {},
   "outputs": [
    {
     "data": {
      "image/png": "[encoded data removed]",
      "text/plain": [
       "<Figure size 432x288 with 1 Axes>"
      ]
     },
     "metadata": {
      "needs_background": "light"
     },
     "output_type": "display_data"
    }
   ],
   "source": [
    "sns.countplot(data=df, x='overpaid_ride_ticket');"
   ]
  },
  {
   "cell_type": "code",
   "execution_count": 14,
   "id": "c7746f30",
   "metadata": {},
   "outputs": [
    {
     "data": {
      "image/png": "[encoded data removed]",
      "text/plain": [
       "<Figure size 432x288 with 1 Axes>"
      ]
     },
     "metadata": {
      "needs_background": "light"
     },
     "output_type": "display_data"
    }
   ],
   "source": [
    "sns.countplot(data=df, x='gps_confidence');"
   ]
  },
  {
   "cell_type": "code",
   "execution_count": 20,
   "id": "d6ef2414",
   "metadata": {},
   "outputs": [
    {
     "data": {
      "image/png": "[encoded data removed]",
      "text/plain": [
       "<Figure size 432x288 with 1 Axes>"
      ]
     },
     "metadata": {
      "needs_background": "light"
     },
     "output_type": "display_data"
    }
   ],
   "source": [
    "sns.countplot(data=df, x='prediction_price_type')\n",
    "plt.xticks(rotation=90);"
   ]
  },
  {
   "cell_type": "code",
   "execution_count": 27,
   "id": "18505913",
   "metadata": {},
   "outputs": [
    {
     "data": {
      "image/png": "[encoded data removed]",
      "text/plain": [
       "<Figure size 432x288 with 1 Axes>"
      ]
     },
     "metadata": {
      "needs_background": "light"
     },
     "output_type": "display_data"
    }
   ],
   "source": [
    "sns.countplot(data=df, x='entered_by')\n",
    "plt.xticks(rotation=90);"
   ]
  },
  {
   "cell_type": "code",
   "execution_count": 28,
   "id": "830a7b72",
   "metadata": {},
   "outputs": [
    {
     "data": {
      "image/png": "[encoded data removed]",
      "text/plain": [
       "<Figure size 432x288 with 1 Axes>"
      ]
     },
     "metadata": {
      "needs_background": "light"
     },
     "output_type": "display_data"
    }
   ],
   "source": [
    "sns.countplot(data=df, x='change_reason_pricing')\n",
    "plt.xticks(rotation=90);"
   ]
  },
  {
   "cell_type": "code",
   "execution_count": 21,
   "id": "550a07ab",
   "metadata": {},
   "outputs": [
    {
     "data": {
      "image/png": "[encoded data removed]",
      "text/plain": [
       "<Figure size 432x288 with 1 Axes>"
      ]
     },
     "metadata": {
      "needs_background": "light"
     },
     "output_type": "display_data"
    }
   ],
   "source": [
    "df['distance'].hist();"
   ]
  },
  {
   "cell_type": "code",
   "execution_count": 22,
   "id": "75ecd2ac",
   "metadata": {},
   "outputs": [
    {
     "data": {
      "image/png": "[encoded data removed]",
      "text/plain": [
       "<Figure size 432x288 with 1 Axes>"
      ]
     },
     "metadata": {
      "needs_background": "light"
     },
     "output_type": "display_data"
    }
   ],
   "source": [
    "df['metered_price'].hist();"
   ]
  },
  {
   "cell_type": "code",
   "execution_count": 23,
   "id": "e63ba0eb",
   "metadata": {},
   "outputs": [
    {
     "data": {
      "image/png": "[encoded data removed]",
      "text/plain": [
       "<Figure size 432x288 with 1 Axes>"
      ]
     },
     "metadata": {
      "needs_background": "light"
     },
     "output_type": "display_data"
    }
   ],
   "source": [
    "df['upfront_price'].hist();"
   ]
  },
  {
   "cell_type": "code",
   "execution_count": 24,
   "id": "df2c817c",
   "metadata": {},
   "outputs": [
    {
     "data": {
      "image/png": "[encoded data removed]",
      "text/plain": [
       "<Figure size 432x288 with 1 Axes>"
      ]
     },
     "metadata": {
      "needs_background": "light"
     },
     "output_type": "display_data"
    }
   ],
   "source": [
    "df['distance'].hist();"
   ]
  },
  {
   "cell_type": "code",
   "execution_count": 25,
   "id": "949caf64",
   "metadata": {},
   "outputs": [
    {
     "data": {
      "image/png": "[encoded data removed]",
      "text/plain": [
       "<Figure size 432x288 with 1 Axes>"
      ]
     },
     "metadata": {
      "needs_background": "light"
     },
     "output_type": "display_data"
    }
   ],
   "source": [
    "df['duration'].hist();"
   ]
  },
  {
   "cell_type": "code",
   "execution_count": 30,
   "id": "254db1b3",
   "metadata": {},
   "outputs": [
    {
     "data": {
      "text/plain": [
       "TECNO MOBILE LIMITED TECNO B1p    108\n",
       "HMD Global Nokia 2.2               98\n",
       "iPhone8,1                          91\n",
       "TECNO F3                           86\n",
       "HUAWEI MAR-LX1A                    73\n",
       "                                 ... \n",
       "Samsung SM-N920V                    1\n",
       "Samsung SM-G925T                    1\n",
       "Samsung SM-G925A                    1\n",
       "Xiaomi Redmi Note 5A Prime          1\n",
       "Xiaomi Redmi Note 5A                1\n",
       "Name: device_name, Length: 497, dtype: int64"
      ]
     },
     "execution_count": 30,
     "metadata": {},
     "output_type": "execute_result"
    }
   ],
   "source": [
    "df['device_name'].value_counts()"
   ]
  },
  {
   "cell_type": "code",
   "execution_count": 23,
   "id": "cc5fd221",
   "metadata": {},
   "outputs": [
    {
     "data": {
      "text/plain": [
       "CI.4.17    723\n",
       "CI.4.19    624\n",
       "CA.5.44    560\n",
       "CA.5.43    406\n",
       "CA.5.42    365\n",
       "          ... \n",
       "CA.4.44      1\n",
       "CI.3.81      1\n",
       "CI.3.44      1\n",
       "CI.3.62      1\n",
       "CI.3.93      1\n",
       "Name: rider_app_version, Length: 114, dtype: int64"
      ]
     },
     "execution_count": 23,
     "metadata": {},
     "output_type": "execute_result"
    }
   ],
   "source": [
    "df['rider_app_version'].value_counts()"
   ]
  },
  {
   "cell_type": "code",
   "execution_count": null,
   "id": "267c4cfa",
   "metadata": {},
   "outputs": [],
   "source": []
  }
 ],
 "metadata": {
  "kernelspec": {
   "display_name": "Python 3 (ipykernel)",
   "language": "python",
   "name": "python3"
  },
  "language_info": {
   "codemirror_mode": {
    "name": "ipython",
    "version": 3
   },
   "file_extension": ".py",
   "mimetype": "text/x-python",
   "name": "python",
   "nbconvert_exporter": "python",
   "pygments_lexer": "ipython3",
   "version": "3.8.9"
  }
 },
 "nbformat": 4,
 "nbformat_minor": 5
}
