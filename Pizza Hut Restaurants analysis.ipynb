{
 "cells": [
  {
   "cell_type": "code",
   "execution_count": 13,
   "id": "e0dd1374",
   "metadata": {},
   "outputs": [],
   "source": [
    "import pandas as pd\n",
    "import numpy as np\n",
    "import seaborn as sns\n",
    "import matplotlib.pyplot as plt"
   ]
  },
  {
   "cell_type": "code",
   "execution_count": 19,
   "id": "4fa12240",
   "metadata": {},
   "outputs": [],
   "source": [
    "df = pd.read_csv(\"/Users/starburned/data_analytics_projects/data/pizza.csv\")"
   ]
  },
  {
   "cell_type": "code",
   "execution_count": 20,
   "id": "536a789b",
   "metadata": {},
   "outputs": [
    {
     "data": {
      "text/html": [
       "<div>\n",
       "<style scoped>\n",
       "    .dataframe tbody tr th:only-of-type {\n",
       "        vertical-align: middle;\n",
       "    }\n",
       "\n",
       "    .dataframe tbody tr th {\n",
       "        vertical-align: top;\n",
       "    }\n",
       "\n",
       "    .dataframe thead th {\n",
       "        text-align: right;\n",
       "    }\n",
       "</style>\n",
       "<table border=\"1\" class=\"dataframe\">\n",
       "  <thead>\n",
       "    <tr style=\"text-align: right;\">\n",
       "      <th></th>\n",
       "      <th>Unnamed: 0</th>\n",
       "      <th>type</th>\n",
       "      <th>address_1</th>\n",
       "      <th>address_2</th>\n",
       "      <th>open_hours</th>\n",
       "      <th>city</th>\n",
       "      <th>state</th>\n",
       "      <th>postal_code</th>\n",
       "      <th>latitude</th>\n",
       "      <th>longitude</th>\n",
       "    </tr>\n",
       "  </thead>\n",
       "  <tbody>\n",
       "    <tr>\n",
       "      <th>0</th>\n",
       "      <td>0</td>\n",
       "      <td>Pizza Hut Express</td>\n",
       "      <td>1200 N. Muldoon Road</td>\n",
       "      <td>NaN</td>\n",
       "      <td>10:00 AM - 11:00 PM</td>\n",
       "      <td>Anchorage</td>\n",
       "      <td>AK</td>\n",
       "      <td>99504</td>\n",
       "      <td>61.2037</td>\n",
       "      <td>-149.7447</td>\n",
       "    </tr>\n",
       "    <tr>\n",
       "      <th>1</th>\n",
       "      <td>1</td>\n",
       "      <td>Pizza Hut Express</td>\n",
       "      <td>150 West 100th Ave</td>\n",
       "      <td>Suite A</td>\n",
       "      <td>10:00 AM - 11:00 PM</td>\n",
       "      <td>Anchorage</td>\n",
       "      <td>AK</td>\n",
       "      <td>99515</td>\n",
       "      <td>61.1194</td>\n",
       "      <td>-149.8974</td>\n",
       "    </tr>\n",
       "    <tr>\n",
       "      <th>2</th>\n",
       "      <td>2</td>\n",
       "      <td>Pizza Hut</td>\n",
       "      <td>2220 Abbott Rd</td>\n",
       "      <td>NaN</td>\n",
       "      <td>10:00 AM - 11:00 PM</td>\n",
       "      <td>Anchorage</td>\n",
       "      <td>AK</td>\n",
       "      <td>99507</td>\n",
       "      <td>61.1535</td>\n",
       "      <td>-149.8289</td>\n",
       "    </tr>\n",
       "    <tr>\n",
       "      <th>3</th>\n",
       "      <td>3</td>\n",
       "      <td>Pizza Hut</td>\n",
       "      <td>341 Boniface Pkwy</td>\n",
       "      <td>Unit G</td>\n",
       "      <td>10:00 AM - 12:00 AM</td>\n",
       "      <td>Anchorage</td>\n",
       "      <td>AK</td>\n",
       "      <td>99504</td>\n",
       "      <td>61.2037</td>\n",
       "      <td>-149.7447</td>\n",
       "    </tr>\n",
       "    <tr>\n",
       "      <th>4</th>\n",
       "      <td>4</td>\n",
       "      <td>Pizza Hut</td>\n",
       "      <td>3727 Spenard Highway</td>\n",
       "      <td>NaN</td>\n",
       "      <td>10:00 AM - 12:00 AM</td>\n",
       "      <td>Anchorage</td>\n",
       "      <td>AK</td>\n",
       "      <td>99517</td>\n",
       "      <td>61.1901</td>\n",
       "      <td>-149.9361</td>\n",
       "    </tr>\n",
       "  </tbody>\n",
       "</table>\n",
       "</div>"
      ],
      "text/plain": [
       "   Unnamed: 0               type             address_1 address_2  \\\n",
       "0           0  Pizza Hut Express  1200 N. Muldoon Road       NaN   \n",
       "1           1  Pizza Hut Express    150 West 100th Ave   Suite A   \n",
       "2           2          Pizza Hut        2220 Abbott Rd       NaN   \n",
       "3           3          Pizza Hut     341 Boniface Pkwy    Unit G   \n",
       "4           4          Pizza Hut  3727 Spenard Highway       NaN   \n",
       "\n",
       "            open_hours       city state  postal_code  latitude  longitude  \n",
       "0  10:00 AM - 11:00 PM  Anchorage    AK        99504   61.2037  -149.7447  \n",
       "1  10:00 AM - 11:00 PM  Anchorage    AK        99515   61.1194  -149.8974  \n",
       "2  10:00 AM - 11:00 PM  Anchorage    AK        99507   61.1535  -149.8289  \n",
       "3  10:00 AM - 12:00 AM  Anchorage    AK        99504   61.2037  -149.7447  \n",
       "4  10:00 AM - 12:00 AM  Anchorage    AK        99517   61.1901  -149.9361  "
      ]
     },
     "execution_count": 20,
     "metadata": {},
     "output_type": "execute_result"
    }
   ],
   "source": [
    "df.head()"
   ]
  },
  {
   "cell_type": "code",
   "execution_count": 21,
   "id": "d6dcf018",
   "metadata": {},
   "outputs": [
    {
     "data": {
      "text/plain": [
       "Index(['Unnamed: 0', 'type', 'address_1', 'address_2', 'open_hours', 'city',\n",
       "       'state', 'postal_code', 'latitude', 'longitude'],\n",
       "      dtype='object')"
      ]
     },
     "execution_count": 21,
     "metadata": {},
     "output_type": "execute_result"
    }
   ],
   "source": [
    "df.columns"
   ]
  },
  {
   "cell_type": "code",
   "execution_count": 22,
   "id": "99f9ddfd",
   "metadata": {},
   "outputs": [],
   "source": [
    "df.drop('Unnamed: 0', inplace=True, axis=1)"
   ]
  },
  {
   "cell_type": "code",
   "execution_count": 23,
   "id": "db0d75a7",
   "metadata": {},
   "outputs": [
    {
     "data": {
      "text/html": [
       "<div>\n",
       "<style scoped>\n",
       "    .dataframe tbody tr th:only-of-type {\n",
       "        vertical-align: middle;\n",
       "    }\n",
       "\n",
       "    .dataframe tbody tr th {\n",
       "        vertical-align: top;\n",
       "    }\n",
       "\n",
       "    .dataframe thead th {\n",
       "        text-align: right;\n",
       "    }\n",
       "</style>\n",
       "<table border=\"1\" class=\"dataframe\">\n",
       "  <thead>\n",
       "    <tr style=\"text-align: right;\">\n",
       "      <th></th>\n",
       "      <th>type</th>\n",
       "      <th>address_1</th>\n",
       "      <th>address_2</th>\n",
       "      <th>open_hours</th>\n",
       "      <th>city</th>\n",
       "      <th>state</th>\n",
       "      <th>postal_code</th>\n",
       "      <th>latitude</th>\n",
       "      <th>longitude</th>\n",
       "    </tr>\n",
       "  </thead>\n",
       "  <tbody>\n",
       "    <tr>\n",
       "      <th>0</th>\n",
       "      <td>Pizza Hut Express</td>\n",
       "      <td>1200 N. Muldoon Road</td>\n",
       "      <td>NaN</td>\n",
       "      <td>10:00 AM - 11:00 PM</td>\n",
       "      <td>Anchorage</td>\n",
       "      <td>AK</td>\n",
       "      <td>99504</td>\n",
       "      <td>61.2037</td>\n",
       "      <td>-149.7447</td>\n",
       "    </tr>\n",
       "    <tr>\n",
       "      <th>1</th>\n",
       "      <td>Pizza Hut Express</td>\n",
       "      <td>150 West 100th Ave</td>\n",
       "      <td>Suite A</td>\n",
       "      <td>10:00 AM - 11:00 PM</td>\n",
       "      <td>Anchorage</td>\n",
       "      <td>AK</td>\n",
       "      <td>99515</td>\n",
       "      <td>61.1194</td>\n",
       "      <td>-149.8974</td>\n",
       "    </tr>\n",
       "    <tr>\n",
       "      <th>2</th>\n",
       "      <td>Pizza Hut</td>\n",
       "      <td>2220 Abbott Rd</td>\n",
       "      <td>NaN</td>\n",
       "      <td>10:00 AM - 11:00 PM</td>\n",
       "      <td>Anchorage</td>\n",
       "      <td>AK</td>\n",
       "      <td>99507</td>\n",
       "      <td>61.1535</td>\n",
       "      <td>-149.8289</td>\n",
       "    </tr>\n",
       "    <tr>\n",
       "      <th>3</th>\n",
       "      <td>Pizza Hut</td>\n",
       "      <td>341 Boniface Pkwy</td>\n",
       "      <td>Unit G</td>\n",
       "      <td>10:00 AM - 12:00 AM</td>\n",
       "      <td>Anchorage</td>\n",
       "      <td>AK</td>\n",
       "      <td>99504</td>\n",
       "      <td>61.2037</td>\n",
       "      <td>-149.7447</td>\n",
       "    </tr>\n",
       "    <tr>\n",
       "      <th>4</th>\n",
       "      <td>Pizza Hut</td>\n",
       "      <td>3727 Spenard Highway</td>\n",
       "      <td>NaN</td>\n",
       "      <td>10:00 AM - 12:00 AM</td>\n",
       "      <td>Anchorage</td>\n",
       "      <td>AK</td>\n",
       "      <td>99517</td>\n",
       "      <td>61.1901</td>\n",
       "      <td>-149.9361</td>\n",
       "    </tr>\n",
       "  </tbody>\n",
       "</table>\n",
       "</div>"
      ],
      "text/plain": [
       "                type             address_1 address_2           open_hours  \\\n",
       "0  Pizza Hut Express  1200 N. Muldoon Road       NaN  10:00 AM - 11:00 PM   \n",
       "1  Pizza Hut Express    150 West 100th Ave   Suite A  10:00 AM - 11:00 PM   \n",
       "2          Pizza Hut        2220 Abbott Rd       NaN  10:00 AM - 11:00 PM   \n",
       "3          Pizza Hut     341 Boniface Pkwy    Unit G  10:00 AM - 12:00 AM   \n",
       "4          Pizza Hut  3727 Spenard Highway       NaN  10:00 AM - 12:00 AM   \n",
       "\n",
       "        city state  postal_code  latitude  longitude  \n",
       "0  Anchorage    AK        99504   61.2037  -149.7447  \n",
       "1  Anchorage    AK        99515   61.1194  -149.8974  \n",
       "2  Anchorage    AK        99507   61.1535  -149.8289  \n",
       "3  Anchorage    AK        99504   61.2037  -149.7447  \n",
       "4  Anchorage    AK        99517   61.1901  -149.9361  "
      ]
     },
     "execution_count": 23,
     "metadata": {},
     "output_type": "execute_result"
    }
   ],
   "source": [
    "df.head()"
   ]
  },
  {
   "cell_type": "code",
   "execution_count": 25,
   "id": "8c6df553",
   "metadata": {},
   "outputs": [
    {
     "data": {
      "text/plain": [
       "6600"
      ]
     },
     "execution_count": 25,
     "metadata": {},
     "output_type": "execute_result"
    }
   ],
   "source": [
    "len(df)"
   ]
  },
  {
   "cell_type": "code",
   "execution_count": 24,
   "id": "c846bc21",
   "metadata": {},
   "outputs": [
    {
     "data": {
      "text/plain": [
       "type           0.000000\n",
       "address_1      0.000000\n",
       "address_2      0.753030\n",
       "open_hours     0.186970\n",
       "city           0.000000\n",
       "state          0.000000\n",
       "postal_code    0.000000\n",
       "latitude       0.025455\n",
       "longitude      0.025455\n",
       "dtype: float64"
      ]
     },
     "execution_count": 24,
     "metadata": {},
     "output_type": "execute_result"
    }
   ],
   "source": [
    "df.isna().mean()"
   ]
  },
  {
   "cell_type": "markdown",
   "id": "698487d3",
   "metadata": {},
   "source": [
    "## EDA"
   ]
  },
  {
   "cell_type": "code",
   "execution_count": 26,
   "id": "1af9e104",
   "metadata": {},
   "outputs": [
    {
     "data": {
      "text/plain": [
       "Pizza Hut            5326\n",
       "Pizza Hut Express    1274\n",
       "Name: type, dtype: int64"
      ]
     },
     "execution_count": 26,
     "metadata": {},
     "output_type": "execute_result"
    }
   ],
   "source": [
    "df['type'].value_counts()"
   ]
  },
  {
   "cell_type": "code",
   "execution_count": 37,
   "id": "e04f1a33",
   "metadata": {},
   "outputs": [
    {
     "data": {
      "image/png": "[encoded data removed]",
      "text/plain": [
       "<Figure size 432x288 with 1 Axes>"
      ]
     },
     "metadata": {
      "needs_background": "light"
     },
     "output_type": "display_data"
    }
   ],
   "source": [
    "sns.countplot(x=df['type']);"
   ]
  },
  {
   "cell_type": "code",
   "execution_count": 27,
   "id": "b435006a",
   "metadata": {},
   "outputs": [
    {
     "data": {
      "text/plain": [
       "Pizza Hut            0.80697\n",
       "Pizza Hut Express    0.19303\n",
       "Name: type, dtype: float64"
      ]
     },
     "execution_count": 27,
     "metadata": {},
     "output_type": "execute_result"
    }
   ],
   "source": [
    "df['type'].value_counts(normalize=True)"
   ]
  },
  {
   "cell_type": "code",
   "execution_count": 31,
   "id": "6199396e",
   "metadata": {},
   "outputs": [
    {
     "data": {
      "text/plain": [
       "11:00 AM - 10:00 PM    1290\n",
       "11:00 AM - 11:00 PM     726\n",
       "10:30 AM - 10:00 PM     611\n",
       "10:30 AM - 11:00 PM     577\n",
       "10:00 AM - 11:00 PM     450\n",
       "                       ... \n",
       "10:00 AM - 7:30 PM        1\n",
       "10:30 AM - 1:30 AM        1\n",
       "10:30 AM - 8:30 PM        1\n",
       "12:00 PM - 11:00 PM       1\n",
       "8:30 AM - 9:30 PM         1\n",
       "Name: open_hours, Length: 95, dtype: int64"
      ]
     },
     "execution_count": 31,
     "metadata": {},
     "output_type": "execute_result"
    }
   ],
   "source": [
    "df['open_hours'].value_counts()"
   ]
  },
  {
   "cell_type": "code",
   "execution_count": 32,
   "id": "e95b3a2c",
   "metadata": {},
   "outputs": [
    {
     "data": {
      "text/plain": [
       "11:00 AM - 10:00 PM    0.240403\n",
       "11:00 AM - 11:00 PM    0.135296\n",
       "10:30 AM - 10:00 PM    0.113865\n",
       "10:30 AM - 11:00 PM    0.107529\n",
       "10:00 AM - 11:00 PM    0.083861\n",
       "                         ...   \n",
       "10:00 AM - 7:30 PM     0.000186\n",
       "10:30 AM - 1:30 AM     0.000186\n",
       "10:30 AM - 8:30 PM     0.000186\n",
       "12:00 PM - 11:00 PM    0.000186\n",
       "8:30 AM - 9:30 PM      0.000186\n",
       "Name: open_hours, Length: 95, dtype: float64"
      ]
     },
     "execution_count": 32,
     "metadata": {},
     "output_type": "execute_result"
    }
   ],
   "source": [
    "df['open_hours'].value_counts(normalize=True)"
   ]
  },
  {
   "cell_type": "code",
   "execution_count": 47,
   "id": "aefaa024",
   "metadata": {},
   "outputs": [
    {
     "data": {
      "image/png": "[encoded data removed]",
      "text/plain": [
       "<Figure size 432x288 with 1 Axes>"
      ]
     },
     "metadata": {
      "needs_background": "light"
     },
     "output_type": "display_data"
    }
   ],
   "source": [
    "df['open_hours'].hist();"
   ]
  },
  {
   "cell_type": "code",
   "execution_count": 55,
   "id": "f960d217",
   "metadata": {},
   "outputs": [
    {
     "data": {
      "image/png": "[encoded data removed]",
      "text/plain": [
       "<Figure size 1080x504 with 1 Axes>"
      ]
     },
     "metadata": {
      "needs_background": "light"
     },
     "output_type": "display_data"
    }
   ],
   "source": [
    "plt.figure(figsize=(15,7))\n",
    "sns.countplot(x='state',data=df, order= df['state'].value_counts().index);"
   ]
  },
  {
   "cell_type": "code",
   "execution_count": 58,
   "id": "c29d765d",
   "metadata": {},
   "outputs": [
    {
     "data": {
      "text/plain": [
       "TX    0.132273\n",
       "CA    0.084697\n",
       "FL    0.068030\n",
       "OH    0.044848\n",
       "NC    0.037879\n",
       "GA    0.037273\n",
       "VA    0.031515\n",
       "IN    0.030758\n",
       "IL    0.030000\n",
       "MO    0.029848\n",
       "Name: state, dtype: float64"
      ]
     },
     "execution_count": 58,
     "metadata": {},
     "output_type": "execute_result"
    }
   ],
   "source": [
    "df['state'].value_counts(normalize=True)[:10]"
   ]
  },
  {
   "cell_type": "code",
   "execution_count": 59,
   "id": "fad4c7c2",
   "metadata": {},
   "outputs": [
    {
     "data": {
      "text/plain": [
       "Houston         0.013485\n",
       "San Antonio     0.009091\n",
       "Las Vegas       0.006515\n",
       "Dallas          0.006212\n",
       "Miami           0.005455\n",
       "Los Angeles     0.004848\n",
       "Jacksonville    0.004697\n",
       "Orlando         0.004242\n",
       "Phoenix         0.003939\n",
       "Louisville      0.003788\n",
       "Name: city, dtype: float64"
      ]
     },
     "execution_count": 59,
     "metadata": {},
     "output_type": "execute_result"
    }
   ],
   "source": [
    "df['city'].value_counts(normalize=True)[:10]"
   ]
  },
  {
   "cell_type": "code",
   "execution_count": 68,
   "id": "d478421a",
   "metadata": {},
   "outputs": [
    {
     "data": {
      "text/plain": [
       "state\n",
       "TX    873\n",
       "CA    559\n",
       "FL    449\n",
       "OH    296\n",
       "NC    250\n",
       "GA    246\n",
       "VA    208\n",
       "IN    203\n",
       "IL    198\n",
       "MO    197\n",
       "PA    179\n",
       "KS    173\n",
       "TN    156\n",
       "LA    153\n",
       "AZ    151\n",
       "NY    135\n",
       "OK    131\n",
       "MI    128\n",
       "AL    125\n",
       "KY    124\n",
       "Name: city, dtype: int64"
      ]
     },
     "execution_count": 68,
     "metadata": {},
     "output_type": "execute_result"
    }
   ],
   "source": [
    "df.groupby(['state'])['city'].count().sort_values(ascending=False)[:20]"
   ]
  },
  {
   "cell_type": "code",
   "execution_count": null,
   "id": "737cc9ca",
   "metadata": {},
   "outputs": [],
   "source": []
  }
 ],
 "metadata": {
  "kernelspec": {
   "display_name": "Python 3 (ipykernel)",
   "language": "python",
   "name": "python3"
  },
  "language_info": {
   "codemirror_mode": {
    "name": "ipython",
    "version": 3
   },
   "file_extension": ".py",
   "mimetype": "text/x-python",
   "name": "python",
   "nbconvert_exporter": "python",
   "pygments_lexer": "ipython3",
   "version": "3.9.12"
  }
 },
 "nbformat": 4,
 "nbformat_minor": 5
}
