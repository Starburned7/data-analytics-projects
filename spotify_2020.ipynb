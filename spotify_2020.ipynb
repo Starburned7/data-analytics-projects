{
 "cells": [
  {
   "cell_type": "markdown",
   "id": "73e9017e",
   "metadata": {},
   "source": [
    "## Sampling\n",
    "Simple sampling with pandas\n",
    "\n",
    "Throughout this chapter, you'll be exploring song data from Spotify. Each row of this population dataset represents a song, and there are over 40,000 rows. Columns include the song name, the artists who performed it, the release year, and attributes of the song like its duration, tempo, and danceability. You'll start by looking at the durations.\n",
    "\n",
    "First task is to sample the Spotify dataset and compare the mean duration of the population with the sample."
   ]
  },
  {
   "cell_type": "code",
   "execution_count": 1,
   "id": "2bc035d2",
   "metadata": {},
   "outputs": [],
   "source": [
    "import pandas as pd\n",
    "import numpy as np\n",
    "import matplotlib.pyplot as plt"
   ]
  },
  {
   "cell_type": "code",
   "execution_count": 2,
   "id": "3cad523b",
   "metadata": {},
   "outputs": [],
   "source": [
    "spotify_population = pd.read_feather('/Users/starburned/data_analytics_projects/data/spotify_2000_2020.feather')"
   ]
  },
  {
   "cell_type": "code",
   "execution_count": 9,
   "id": "86ad73d5",
   "metadata": {},
   "outputs": [
    {
     "data": {
      "text/html": [
       "<div>\n",
       "<style scoped>\n",
       "    .dataframe tbody tr th:only-of-type {\n",
       "        vertical-align: middle;\n",
       "    }\n",
       "\n",
       "    .dataframe tbody tr th {\n",
       "        vertical-align: top;\n",
       "    }\n",
       "\n",
       "    .dataframe thead th {\n",
       "        text-align: right;\n",
       "    }\n",
       "</style>\n",
       "<table border=\"1\" class=\"dataframe\">\n",
       "  <thead>\n",
       "    <tr style=\"text-align: right;\">\n",
       "      <th></th>\n",
       "      <th>acousticness</th>\n",
       "      <th>artists</th>\n",
       "      <th>danceability</th>\n",
       "      <th>duration_ms</th>\n",
       "      <th>duration_minutes</th>\n",
       "      <th>energy</th>\n",
       "      <th>explicit</th>\n",
       "      <th>id</th>\n",
       "      <th>instrumentalness</th>\n",
       "      <th>key</th>\n",
       "      <th>liveness</th>\n",
       "      <th>loudness</th>\n",
       "      <th>mode</th>\n",
       "      <th>name</th>\n",
       "      <th>popularity</th>\n",
       "      <th>release_date</th>\n",
       "      <th>speechiness</th>\n",
       "      <th>tempo</th>\n",
       "      <th>valence</th>\n",
       "      <th>year</th>\n",
       "    </tr>\n",
       "  </thead>\n",
       "  <tbody>\n",
       "    <tr>\n",
       "      <th>0</th>\n",
       "      <td>0.97200</td>\n",
       "      <td>['David Bauer']</td>\n",
       "      <td>0.567</td>\n",
       "      <td>313293.0</td>\n",
       "      <td>5.221550</td>\n",
       "      <td>0.227</td>\n",
       "      <td>0.0</td>\n",
       "      <td>0w0D8H1ubRerCXHWYJkinO</td>\n",
       "      <td>0.601000</td>\n",
       "      <td>10.0</td>\n",
       "      <td>0.110</td>\n",
       "      <td>-13.441</td>\n",
       "      <td>1.0</td>\n",
       "      <td>Shout to the Lord</td>\n",
       "      <td>47.0</td>\n",
       "      <td>2000</td>\n",
       "      <td>0.0290</td>\n",
       "      <td>136.123</td>\n",
       "      <td>0.0396</td>\n",
       "      <td>2000.0</td>\n",
       "    </tr>\n",
       "    <tr>\n",
       "      <th>1</th>\n",
       "      <td>0.32100</td>\n",
       "      <td>['Etta James']</td>\n",
       "      <td>0.821</td>\n",
       "      <td>360240.0</td>\n",
       "      <td>6.004000</td>\n",
       "      <td>0.418</td>\n",
       "      <td>0.0</td>\n",
       "      <td>4JVeqfE2tpi7Pv63LJZtPh</td>\n",
       "      <td>0.000372</td>\n",
       "      <td>9.0</td>\n",
       "      <td>0.222</td>\n",
       "      <td>-9.841</td>\n",
       "      <td>0.0</td>\n",
       "      <td>Miss You</td>\n",
       "      <td>51.0</td>\n",
       "      <td>2000-12-12</td>\n",
       "      <td>0.0407</td>\n",
       "      <td>117.382</td>\n",
       "      <td>0.8030</td>\n",
       "      <td>2000.0</td>\n",
       "    </tr>\n",
       "    <tr>\n",
       "      <th>2</th>\n",
       "      <td>0.00659</td>\n",
       "      <td>['Quasimoto']</td>\n",
       "      <td>0.706</td>\n",
       "      <td>202507.0</td>\n",
       "      <td>3.375117</td>\n",
       "      <td>0.602</td>\n",
       "      <td>1.0</td>\n",
       "      <td>5pxtdhLAi0RTh1gNqhGMNA</td>\n",
       "      <td>0.000138</td>\n",
       "      <td>11.0</td>\n",
       "      <td>0.400</td>\n",
       "      <td>-8.306</td>\n",
       "      <td>0.0</td>\n",
       "      <td>Real Eyes</td>\n",
       "      <td>44.0</td>\n",
       "      <td>2000-06-13</td>\n",
       "      <td>0.3420</td>\n",
       "      <td>89.692</td>\n",
       "      <td>0.4790</td>\n",
       "      <td>2000.0</td>\n",
       "    </tr>\n",
       "    <tr>\n",
       "      <th>3</th>\n",
       "      <td>0.00390</td>\n",
       "      <td>['Millencolin']</td>\n",
       "      <td>0.368</td>\n",
       "      <td>173360.0</td>\n",
       "      <td>2.889333</td>\n",
       "      <td>0.977</td>\n",
       "      <td>0.0</td>\n",
       "      <td>3jRsoe4Vkxa4BMYqGHX8L0</td>\n",
       "      <td>0.000000</td>\n",
       "      <td>11.0</td>\n",
       "      <td>0.350</td>\n",
       "      <td>-2.757</td>\n",
       "      <td>0.0</td>\n",
       "      <td>Penguins &amp; Polarbears</td>\n",
       "      <td>52.0</td>\n",
       "      <td>2000-02-22</td>\n",
       "      <td>0.1270</td>\n",
       "      <td>165.889</td>\n",
       "      <td>0.5480</td>\n",
       "      <td>2000.0</td>\n",
       "    </tr>\n",
       "    <tr>\n",
       "      <th>4</th>\n",
       "      <td>0.12200</td>\n",
       "      <td>['Steve Chou']</td>\n",
       "      <td>0.501</td>\n",
       "      <td>344200.0</td>\n",
       "      <td>5.736667</td>\n",
       "      <td>0.511</td>\n",
       "      <td>0.0</td>\n",
       "      <td>4mronxcllhfyhBRqyZi8kU</td>\n",
       "      <td>0.000000</td>\n",
       "      <td>7.0</td>\n",
       "      <td>0.279</td>\n",
       "      <td>-9.836</td>\n",
       "      <td>0.0</td>\n",
       "      <td>黃昏</td>\n",
       "      <td>53.0</td>\n",
       "      <td>2000-12-25</td>\n",
       "      <td>0.0291</td>\n",
       "      <td>78.045</td>\n",
       "      <td>0.1130</td>\n",
       "      <td>2000.0</td>\n",
       "    </tr>\n",
       "  </tbody>\n",
       "</table>\n",
       "</div>"
      ],
      "text/plain": [
       "   acousticness          artists  danceability  duration_ms  duration_minutes  \\\n",
       "0       0.97200  ['David Bauer']         0.567     313293.0          5.221550   \n",
       "1       0.32100   ['Etta James']         0.821     360240.0          6.004000   \n",
       "2       0.00659    ['Quasimoto']         0.706     202507.0          3.375117   \n",
       "3       0.00390  ['Millencolin']         0.368     173360.0          2.889333   \n",
       "4       0.12200   ['Steve Chou']         0.501     344200.0          5.736667   \n",
       "\n",
       "   energy  explicit                      id  instrumentalness   key  liveness  \\\n",
       "0   0.227       0.0  0w0D8H1ubRerCXHWYJkinO          0.601000  10.0     0.110   \n",
       "1   0.418       0.0  4JVeqfE2tpi7Pv63LJZtPh          0.000372   9.0     0.222   \n",
       "2   0.602       1.0  5pxtdhLAi0RTh1gNqhGMNA          0.000138  11.0     0.400   \n",
       "3   0.977       0.0  3jRsoe4Vkxa4BMYqGHX8L0          0.000000  11.0     0.350   \n",
       "4   0.511       0.0  4mronxcllhfyhBRqyZi8kU          0.000000   7.0     0.279   \n",
       "\n",
       "   loudness  mode                   name  popularity release_date  \\\n",
       "0   -13.441   1.0      Shout to the Lord        47.0         2000   \n",
       "1    -9.841   0.0               Miss You        51.0   2000-12-12   \n",
       "2    -8.306   0.0              Real Eyes        44.0   2000-06-13   \n",
       "3    -2.757   0.0  Penguins & Polarbears        52.0   2000-02-22   \n",
       "4    -9.836   0.0                     黃昏        53.0   2000-12-25   \n",
       "\n",
       "   speechiness    tempo  valence    year  \n",
       "0       0.0290  136.123   0.0396  2000.0  \n",
       "1       0.0407  117.382   0.8030  2000.0  \n",
       "2       0.3420   89.692   0.4790  2000.0  \n",
       "3       0.1270  165.889   0.5480  2000.0  \n",
       "4       0.0291   78.045   0.1130  2000.0  "
      ]
     },
     "execution_count": 9,
     "metadata": {},
     "output_type": "execute_result"
    }
   ],
   "source": [
    "spotify_population.head()"
   ]
  },
  {
   "cell_type": "code",
   "execution_count": 10,
   "id": "89a4419c",
   "metadata": {},
   "outputs": [
    {
     "data": {
      "text/plain": [
       "41656"
      ]
     },
     "execution_count": 10,
     "metadata": {},
     "output_type": "execute_result"
    }
   ],
   "source": [
    "len(spotify_population)"
   ]
  },
  {
   "cell_type": "code",
   "execution_count": 11,
   "id": "002b4dbc",
   "metadata": {},
   "outputs": [],
   "source": [
    "# Sample 1000 rows from spotify_population\n",
    "spotify_sample = spotify_population.sample(n=1000)"
   ]
  },
  {
   "cell_type": "code",
   "execution_count": 12,
   "id": "200db53f",
   "metadata": {},
   "outputs": [],
   "source": [
    "# Calculate the mean duration in mins from spotify_population\n",
    "mean_dur_pop = spotify_population['duration_minutes'].mean()"
   ]
  },
  {
   "cell_type": "code",
   "execution_count": 13,
   "id": "a235b586",
   "metadata": {},
   "outputs": [
    {
     "data": {
      "text/plain": [
       "3.8521519140900073"
      ]
     },
     "execution_count": 13,
     "metadata": {},
     "output_type": "execute_result"
    }
   ],
   "source": [
    "mean_dur_pop"
   ]
  },
  {
   "cell_type": "code",
   "execution_count": 15,
   "id": "ee6a517a",
   "metadata": {},
   "outputs": [],
   "source": [
    "# Calculate the mean duration in mins from spotify_sample\n",
    "mean_dur_samp = spotify_sample['duration_minutes'].mean()"
   ]
  },
  {
   "cell_type": "code",
   "execution_count": 16,
   "id": "30578d59",
   "metadata": {},
   "outputs": [
    {
     "data": {
      "text/plain": [
       "3.8617513833333335"
      ]
     },
     "execution_count": 16,
     "metadata": {},
     "output_type": "execute_result"
    }
   ],
   "source": [
    "mean_dur_samp"
   ]
  },
  {
   "cell_type": "code",
   "execution_count": 17,
   "id": "ec78cc26",
   "metadata": {},
   "outputs": [
    {
     "data": {
      "text/plain": [
       "-7.366856851353947"
      ]
     },
     "execution_count": 17,
     "metadata": {},
     "output_type": "execute_result"
    }
   ],
   "source": [
    "# Create a pandas Series from the loudness column of spotify_population\n",
    "loudness_pop = spotify_population['loudness']\n",
    "loudness_pop.mean()"
   ]
  },
  {
   "cell_type": "code",
   "execution_count": 18,
   "id": "6176a4fb",
   "metadata": {},
   "outputs": [
    {
     "data": {
      "text/plain": [
       "-7.4856799999999994"
      ]
     },
     "execution_count": 18,
     "metadata": {},
     "output_type": "execute_result"
    }
   ],
   "source": [
    "# Sample 100 values of loudness_pop\n",
    "loudness_samp = loudness_pop.sample(n=100)\n",
    "loudness_samp.mean()"
   ]
  },
  {
   "cell_type": "markdown",
   "id": "1dcb0c01",
   "metadata": {},
   "source": [
    "The Spotify dataset contains an acousticness column, which is a confidence measure from zero to one of whether the track was made with instruments that aren't plugged in. Compare the acousticness distribution of the total population of songs with a sample of those songs."
   ]
  },
  {
   "cell_type": "code",
   "execution_count": 20,
   "id": "0b6d02cd",
   "metadata": {},
   "outputs": [
    {
     "data": {
      "image/png": "[encoded data removed]",
      "text/plain": [
       "<Figure size 432x288 with 1 Axes>"
      ]
     },
     "metadata": {
      "needs_background": "light"
     },
     "output_type": "display_data"
    }
   ],
   "source": [
    "# Visualize the distribution of acousticness with a histogram\n",
    "spotify_population['acousticness'].hist(bins=np.arange(0, 1.01, 0.01));"
   ]
  },
  {
   "cell_type": "code",
   "execution_count": 24,
   "id": "0dcdd243",
   "metadata": {},
   "outputs": [
    {
     "data": {
      "image/png": "[encoded data removed]",
      "text/plain": [
       "<Figure size 432x288 with 1 Axes>"
      ]
     },
     "metadata": {
      "needs_background": "light"
     },
     "output_type": "display_data"
    }
   ],
   "source": [
    "# Update the histogram to use spotify sample\n",
    "spotify_sample['acousticness'].hist(bins=np.arange(0, 1.01, 0.01));"
   ]
  },
  {
   "cell_type": "code",
   "execution_count": 26,
   "id": "131332bf",
   "metadata": {},
   "outputs": [
    {
     "data": {
      "image/png": "[encoded data removed]",
      "text/plain": [
       "<Figure size 432x288 with 1 Axes>"
      ]
     },
     "metadata": {
      "needs_background": "light"
     },
     "output_type": "display_data"
    }
   ],
   "source": [
    "# Visualize the distribution of duration_minutes as a histogram\n",
    "spotify_population['duration_minutes'].hist(bins=np.arange(0, 15.5, 0.5));"
   ]
  },
  {
   "cell_type": "code",
   "execution_count": 27,
   "id": "57a9f6aa",
   "metadata": {},
   "outputs": [],
   "source": [
    "# Generate random numbers from a Uniform(-3, 3)\n",
    "uniforms = np.random.uniform(low=-3, high=3, size=5000)"
   ]
  },
  {
   "cell_type": "code",
   "execution_count": 28,
   "id": "7ad23c29",
   "metadata": {},
   "outputs": [],
   "source": [
    "# Generate random numbers from a Normal(5, 2)\n",
    "normals = np.random.normal(loc=5,scale=2, size=5000)"
   ]
  },
  {
   "cell_type": "code",
   "execution_count": 35,
   "id": "f35422bd",
   "metadata": {},
   "outputs": [
    {
     "data": {
      "image/png": "[encoded data removed]",
      "text/plain": [
       "<Figure size 432x288 with 1 Axes>"
      ]
     },
     "metadata": {
      "needs_background": "light"
     },
     "output_type": "display_data"
    }
   ],
   "source": [
    "plt.hist(uniforms, bins=np.arange(-3, 3.25, 0.25));"
   ]
  },
  {
   "cell_type": "code",
   "execution_count": 37,
   "id": "7182159e",
   "metadata": {},
   "outputs": [
    {
     "data": {
      "image/png": "[encoded data removed]",
      "text/plain": [
       "<Figure size 432x288 with 1 Axes>"
      ]
     },
     "metadata": {
      "needs_background": "light"
     },
     "output_type": "display_data"
    }
   ],
   "source": [
    "plt.hist(uniforms);"
   ]
  },
  {
   "cell_type": "code",
   "execution_count": 39,
   "id": "3c0c8bb7",
   "metadata": {},
   "outputs": [
    {
     "data": {
      "image/png": "[encoded data removed]",
      "text/plain": [
       "<Figure size 432x288 with 1 Axes>"
      ]
     },
     "metadata": {
      "needs_background": "light"
     },
     "output_type": "display_data"
    }
   ],
   "source": [
    "plt.hist(normals, bins=np.arange(-2, 13.5, 0.5));"
   ]
  },
  {
   "cell_type": "markdown",
   "id": "ac84372d",
   "metadata": {},
   "source": [
    "## Principles of bootstrapping\n",
    "Bootstrapping is, in some sense, the opposite of sampling from a population. Sampling treats your dataset as the population, and you generate a random subset. Bootstrapping treats your dataset as a sample and uses it to build up a theoretical population."
   ]
  },
  {
   "cell_type": "markdown",
   "id": "694fb2e4",
   "metadata": {},
   "source": [
    "The bootstrapping workflow is to generate a resample of the same size as the population, calculate a summary statistic, then repeat this to get a distribution of summary statistics."
   ]
  },
  {
   "cell_type": "markdown",
   "id": "4b766a60",
   "metadata": {},
   "source": [
    "The key to deciding whether to sample without or with replacement is whether or not your dataset is best thought of as being the whole population or not."
   ]
  },
  {
   "cell_type": "markdown",
   "id": "d7f1596a",
   "metadata": {},
   "source": [
    "## Generating a bootstrap distribution\n",
    "\n",
    "The process for generating a bootstrap distribution is similar to the process for generating a sampling distribution; only the first step is different.\n",
    "\n",
    "To make a sampling distribution, you start with the population and sample without replacement. To make a bootstrap distribution, you start with a sample and sample that with replacement. After that, the steps are the same: calculate the summary statistic that you are interested in on that sample/resample, then replicate the process many times. In each case, you can visualize the distribution with a histogram."
   ]
  },
  {
   "cell_type": "code",
   "execution_count": 41,
   "id": "7a5e7eb4",
   "metadata": {},
   "outputs": [],
   "source": [
    "# Generate 1 bootstrap resample\n",
    "spotify_1_resample = spotify_sample.sample(frac=1, replace=True)"
   ]
  },
  {
   "cell_type": "code",
   "execution_count": 42,
   "id": "c10c174b",
   "metadata": {},
   "outputs": [],
   "source": [
    "# Calculate mean danceability of resample\n",
    "mean_danceability_1 = spotify_1_resample['danceability'].mean()"
   ]
  },
  {
   "cell_type": "code",
   "execution_count": 43,
   "id": "c69ac9e3",
   "metadata": {},
   "outputs": [
    {
     "data": {
      "text/plain": [
       "0.5810508"
      ]
     },
     "execution_count": 43,
     "metadata": {},
     "output_type": "execute_result"
    }
   ],
   "source": [
    "mean_danceability_1"
   ]
  },
  {
   "cell_type": "code",
   "execution_count": 45,
   "id": "fc7c2275",
   "metadata": {},
   "outputs": [],
   "source": [
    "# Replicate this 1000 times\n",
    "mean_danceability_1000 = []\n",
    "for _ in range(1000):\n",
    "    mean_danceability_1000.append(np.mean(spotify_sample.sample(frac=1, replace=True)['danceability']))"
   ]
  },
  {
   "cell_type": "code",
   "execution_count": 46,
   "id": "1a13977a",
   "metadata": {},
   "outputs": [
    {
     "data": {
      "text/plain": [
       "[0.5830684,\n",
       " 0.5791510999999999,\n",
       " 0.5760468000000001,\n",
       " 0.5744999000000001,\n",
       " 0.5831964,\n",
       " 0.5724693999999999,\n",
       " 0.5748418,\n",
       " 0.5679468999999999,\n",
       " 0.584563,\n",
       " 0.5781189]"
      ]
     },
     "execution_count": 46,
     "metadata": {},
     "output_type": "execute_result"
    }
   ],
   "source": [
    "mean_danceability_1000[:10]"
   ]
  },
  {
   "cell_type": "code",
   "execution_count": 47,
   "id": "b5d7a5a6",
   "metadata": {},
   "outputs": [
    {
     "data": {
      "image/png": "[encoded data removed]",
      "text/plain": [
       "<Figure size 432x288 with 1 Axes>"
      ]
     },
     "metadata": {
      "needs_background": "light"
     },
     "output_type": "display_data"
    }
   ],
   "source": [
    "plt.hist(mean_danceability_1000);"
   ]
  },
  {
   "cell_type": "markdown",
   "id": "e02ca6ac",
   "metadata": {},
   "source": [
    "From the smaller sample of Spotify songs, we can estimate the mean danceability statistic in the population. Since we have a distribution of statistics, we can even quantify how accurate our estimate is"
   ]
  },
  {
   "cell_type": "markdown",
   "id": "02294b31",
   "metadata": {},
   "source": [
    "If the sample is not closely representative of the population, then the mean of the bootstrap distribution will not be representative of the population mean. This is less of a problem for standard errors."
   ]
  },
  {
   "cell_type": "markdown",
   "id": "f1ca1e86",
   "metadata": {},
   "source": [
    "## Sampling distribution vs. bootstrap distribution\n",
    "\n",
    "The sampling distribution and bootstrap distribution are closely linked. In situations where you can repeatedly sample from a population (these occasions are rare), it's helpful to generate both the sampling distribution and the bootstrap distribution, one after the other, to see how they are related.\n",
    "\n",
    "Here, the statistic you are interested in is the mean popularity score of the songs."
   ]
  },
  {
   "cell_type": "code",
   "execution_count": 47,
   "id": "7990fa59",
   "metadata": {},
   "outputs": [],
   "source": [
    "spotify_sample = spotify_population.sample(n=5000)"
   ]
  },
  {
   "cell_type": "code",
   "execution_count": 48,
   "id": "5f7200b8",
   "metadata": {},
   "outputs": [],
   "source": [
    "mean_popularity_2000_samp = []\n",
    "\n",
    "# Generate a sampling distribution of 2000 replicates\n",
    "for _ in range(2000):\n",
    "    mean_popularity_2000_samp.append(spotify_population.sample(n=5000)['popularity'].mean())"
   ]
  },
  {
   "cell_type": "code",
   "execution_count": 9,
   "id": "eafcadab",
   "metadata": {},
   "outputs": [
    {
     "data": {
      "text/plain": [
       "[54.85, 54.414, 53.958, 54.526, 54.232, 54.12, 54.524, 55.458, 54.848, 54.75]"
      ]
     },
     "execution_count": 9,
     "metadata": {},
     "output_type": "execute_result"
    }
   ],
   "source": [
    "# Print the sampling distribution results\n",
    "mean_popularity_2000_samp[:10]"
   ]
  },
  {
   "cell_type": "code",
   "execution_count": 49,
   "id": "20ca5940",
   "metadata": {},
   "outputs": [],
   "source": [
    "# List comprehension\n",
    "mean_popularity_3000_samp = [spotify_population.sample(n=5000)['popularity'].mean() for _ in range(3000)]"
   ]
  },
  {
   "cell_type": "code",
   "execution_count": 11,
   "id": "3f0031c0",
   "metadata": {},
   "outputs": [
    {
     "data": {
      "text/plain": [
       "[54.752, 54.046, 54.758, 54.468, 54.934, 55.272, 54.88, 55.362, 54.862, 54.56]"
      ]
     },
     "execution_count": 11,
     "metadata": {},
     "output_type": "execute_result"
    }
   ],
   "source": [
    "mean_popularity_3000_samp[:10]"
   ]
  },
  {
   "cell_type": "code",
   "execution_count": 50,
   "id": "b6a0c73d",
   "metadata": {},
   "outputs": [],
   "source": [
    "# Generate a bootstrap distribution of 2000 replicates, resample 500 rows and calculate the mean popularity\n",
    "mean_popularity_2000_boot = [spotify_sample.sample(5000, replace=True)['popularity'].mean() for _ in range(2000)]"
   ]
  },
  {
   "cell_type": "code",
   "execution_count": 15,
   "id": "471759cb",
   "metadata": {},
   "outputs": [
    {
     "data": {
      "text/plain": [
       "[54.982, 54.058, 55.26, 55.236, 54.9, 54.118, 54.924, 54.71, 54.3, 54.252]"
      ]
     },
     "execution_count": 15,
     "metadata": {},
     "output_type": "execute_result"
    }
   ],
   "source": [
    "mean_popularity_2000_boot[:10]"
   ]
  },
  {
   "cell_type": "code",
   "execution_count": 51,
   "id": "b4039f89",
   "metadata": {},
   "outputs": [],
   "source": [
    "# Generate a bootstrap distribution of 2000 replicates, resample 500 rows and calculate the mean popularity\n",
    "mean_popularity_5000_boot = [spotify_sample.sample(5000, replace=True)['popularity'].mean() for _ in range(5000)]"
   ]
  },
  {
   "cell_type": "markdown",
   "id": "f9aa873d",
   "metadata": {},
   "source": [
    "## Compare sampling and bootstrap means"
   ]
  },
  {
   "cell_type": "code",
   "execution_count": 52,
   "id": "fe08d297",
   "metadata": {},
   "outputs": [
    {
     "data": {
      "text/plain": [
       "54.837142308430955"
      ]
     },
     "execution_count": 52,
     "metadata": {},
     "output_type": "execute_result"
    }
   ],
   "source": [
    "spotify_population['popularity'].mean()"
   ]
  },
  {
   "cell_type": "code",
   "execution_count": 53,
   "id": "794a0c45",
   "metadata": {},
   "outputs": [
    {
     "data": {
      "text/plain": [
       "54.729"
      ]
     },
     "execution_count": 53,
     "metadata": {},
     "output_type": "execute_result"
    }
   ],
   "source": [
    "spotify_sample['popularity'].mean()"
   ]
  },
  {
   "cell_type": "code",
   "execution_count": 54,
   "id": "0646cf59",
   "metadata": {},
   "outputs": [
    {
     "data": {
      "text/plain": [
       "54.7298737"
      ]
     },
     "execution_count": 54,
     "metadata": {},
     "output_type": "execute_result"
    }
   ],
   "source": [
    "np.mean(mean_popularity_2000_boot)"
   ]
  },
  {
   "cell_type": "code",
   "execution_count": 55,
   "id": "1aaa14b6",
   "metadata": {
    "scrolled": true
   },
   "outputs": [
    {
     "data": {
      "text/plain": [
       "54.8378656"
      ]
     },
     "execution_count": 55,
     "metadata": {},
     "output_type": "execute_result"
    }
   ],
   "source": [
    "np.mean(mean_popularity_3000_samp)"
   ]
  },
  {
   "cell_type": "markdown",
   "id": "667179b9",
   "metadata": {},
   "source": [
    "The sampling distribution mean is the best estimate of the true population mean; the bootstrap distribution mean is closest to the original sample mean."
   ]
  },
  {
   "cell_type": "markdown",
   "id": "b8f55cec",
   "metadata": {},
   "source": [
    "## Sampling and bootstrap standard deviations\n",
    "\n",
    "In the same way that you looked at how the sampling distribution and bootstrap distribution could be used to estimate the population mean, you'll now take a look at how they can be used to estimate variation, or more specifically, the standard deviation, in the population."
   ]
  },
  {
   "cell_type": "code",
   "execution_count": 56,
   "id": "f75082aa",
   "metadata": {},
   "outputs": [
    {
     "data": {
      "text/plain": [
       "10.880065274257536"
      ]
     },
     "execution_count": 56,
     "metadata": {},
     "output_type": "execute_result"
    }
   ],
   "source": [
    "spotify_population['popularity'].std(ddof=0)"
   ]
  },
  {
   "cell_type": "code",
   "execution_count": 57,
   "id": "fe605ae0",
   "metadata": {},
   "outputs": [
    {
     "data": {
      "text/plain": [
       "10.955380553527775"
      ]
     },
     "execution_count": 57,
     "metadata": {},
     "output_type": "execute_result"
    }
   ],
   "source": [
    "spotify_sample['popularity'].std(ddof=1)"
   ]
  },
  {
   "cell_type": "code",
   "execution_count": 58,
   "id": "a7975de3",
   "metadata": {},
   "outputs": [
    {
     "data": {
      "text/plain": [
       "11.007821419688545"
      ]
     },
     "execution_count": 58,
     "metadata": {},
     "output_type": "execute_result"
    }
   ],
   "source": [
    "np.std(mean_popularity_2000_boot, ddof=1) * np.sqrt(5000)"
   ]
  },
  {
   "cell_type": "code",
   "execution_count": 60,
   "id": "10d6212a",
   "metadata": {},
   "outputs": [
    {
     "data": {
      "text/plain": [
       "10.236797583136996"
      ]
     },
     "execution_count": 60,
     "metadata": {},
     "output_type": "execute_result"
    }
   ],
   "source": [
    "np.std(mean_popularity_3000_samp, ddof=1) * np.sqrt(5000)"
   ]
  },
  {
   "cell_type": "code",
   "execution_count": 61,
   "id": "bd0134a7",
   "metadata": {},
   "outputs": [
    {
     "data": {
      "text/plain": [
       "10.993792482033651"
      ]
     },
     "execution_count": 61,
     "metadata": {},
     "output_type": "execute_result"
    }
   ],
   "source": [
    "np.std(mean_popularity_5000_boot, ddof=1) * np.sqrt(5000)"
   ]
  },
  {
   "cell_type": "markdown",
   "id": "1ac7323c",
   "metadata": {},
   "source": [
    "When you don't know have all the values from the population or the ability to sample multiple times, you can use bootstrapping to get a good estimate of the population standard deviation."
   ]
  },
  {
   "cell_type": "markdown",
   "id": "a8a989d2",
   "metadata": {},
   "source": [
    "Confidence intervals account for uncertainty in our estimate of a population parameter by providing a range of possible values. We are confident that the true value lies somewhere in the interval specified by that range."
   ]
  },
  {
   "cell_type": "code",
   "execution_count": null,
   "id": "1211d959",
   "metadata": {},
   "outputs": [],
   "source": []
  }
 ],
 "metadata": {
  "kernelspec": {
   "display_name": "Python 3 (ipykernel)",
   "language": "python",
   "name": "python3"
  },
  "language_info": {
   "codemirror_mode": {
    "name": "ipython",
    "version": 3
   },
   "file_extension": ".py",
   "mimetype": "text/x-python",
   "name": "python",
   "nbconvert_exporter": "python",
   "pygments_lexer": "ipython3",
   "version": "3.9.12"
  }
 },
 "nbformat": 4,
 "nbformat_minor": 5
}
